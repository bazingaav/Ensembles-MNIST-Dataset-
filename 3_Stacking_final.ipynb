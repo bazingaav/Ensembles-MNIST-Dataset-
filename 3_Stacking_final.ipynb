{
  "nbformat": 4,
  "nbformat_minor": 0,
  "metadata": {
    "colab": {
      "name": "4-Stacking_final.ipynb",
      "provenance": [],
      "collapsed_sections": [
        "l6dSkaBe0w2j",
        "3LdwxytM3KRW",
        "kit0O8cL5vqP",
        "rjR1ZeUtAhep",
        "g8JzUJuxfwWh",
        "8GY1d6Mrf123",
        "Iwqnoaz8f9l0",
        "_IFFgfpOuZCL"
      ],
      "toc_visible": true
    },
    "kernelspec": {
      "name": "python3",
      "display_name": "Python 3"
    }
  },
  "cells": [
    {
      "cell_type": "code",
      "metadata": {
        "id": "gL_luZGlyS-b",
        "colab_type": "code",
        "outputId": "c27909be-825e-4b44-f23b-23df8daf60e1",
        "colab": {
          "base_uri": "https://localhost:8080/",
          "height": 35
        }
      },
      "source": [
        "import numpy as np\n",
        "import pandas as pd\n",
        "import seaborn as sb\n",
        "sb.set_style(\"dark\")\n",
        "import matplotlib.pyplot as plt\n",
        "\n",
        "from sklearn.ensemble import RandomForestClassifier\n",
        "from sklearn.model_selection import train_test_split\n",
        "from sklearn.neighbors import KNeighborsClassifier\n",
        "from sklearn.decomposition import PCA\n",
        "from sklearn.svm import SVC\n",
        "from lightgbm import LGBMClassifier\n",
        "import xgboost as xgb\n",
        "from sklearn import tree\n",
        "from sklearn.linear_model import LogisticRegression\n",
        "from sklearn import metrics\n",
        "from sklearn.metrics import confusion_matrix\n",
        "from sklearn.naive_bayes import MultinomialNB\n",
        "%pylab inline"
      ],
      "execution_count": 0,
      "outputs": [
        {
          "output_type": "stream",
          "text": [
            "Populating the interactive namespace from numpy and matplotlib\n"
          ],
          "name": "stdout"
        }
      ]
    },
    {
      "cell_type": "code",
      "metadata": {
        "id": "4OdzGQ0F4x6e",
        "colab_type": "code",
        "colab": {}
      },
      "source": [
        "from sklearn.model_selection import StratifiedKFold\n",
        "def Stacking(model,train,y,test,n_fold):\n",
        "  folds=StratifiedKFold(n_splits=n_fold,random_state=1)\n",
        "  #test_pred=np.empty((test.shape[0],1),float)\n",
        "  train_pred=np.empty((0,1),float)\n",
        "  test_pred=np.empty((0,1),float)\n",
        "  for train_indices,val_indices in folds.split(train,y.values):\n",
        "    x_train,x_val=train.iloc[train_indices],train.iloc[val_indices]\n",
        "    y_train,y_val=y.iloc[train_indices],y.iloc[val_indices]\n",
        "    \n",
        "    model.fit(X=x_train,y=y_train)\n",
        "    train_pred=np.append(train_pred,model.predict(x_val))\n",
        "  test_pred=np.append(test_pred,model.predict(test))\n",
        "  return test_pred.reshape(-1,1),train_pred"
      ],
      "execution_count": 0,
      "outputs": []
    },
    {
      "cell_type": "markdown",
      "metadata": {
        "id": "l6dSkaBe0w2j",
        "colab_type": "text"
      },
      "source": [
        "# ***PCA with 50 components(96.07% highest)*** "
      ]
    },
    {
      "cell_type": "code",
      "metadata": {
        "id": "wR-oLU7k0yu9",
        "colab_type": "code",
        "colab": {}
      },
      "source": [
        "train_data = pd.read_csv(\"train.csv\")[:-2] #reading the csv files using pandas\n",
        "test_data = pd.read_csv(\"test.csv\")[:-2]"
      ],
      "execution_count": 0,
      "outputs": []
    },
    {
      "cell_type": "code",
      "metadata": {
        "id": "jwxaIRXe07Ef",
        "colab_type": "code",
        "outputId": "5295ab86-0602-4972-a1ea-865e750aca44",
        "colab": {
          "base_uri": "https://localhost:8080/",
          "height": 508
        }
      },
      "source": [
        "y = train_data['label']\n",
        "\n",
        "## Dropping the variable 'label' from X variable \n",
        "X = train_data.drop(columns = 'label')\n",
        "\n",
        "## Printing the size of data \n",
        "print(train_data.shape)\n",
        "print(X)\n",
        "print(y)"
      ],
      "execution_count": 0,
      "outputs": [
        {
          "output_type": "stream",
          "text": [
            "(41998, 785)\n",
            "       pixel0  pixel1  pixel2  pixel3  ...  pixel780  pixel781  pixel782  pixel783\n",
            "0           0       0       0       0  ...         0         0         0         0\n",
            "1           0       0       0       0  ...         0         0         0         0\n",
            "2           0       0       0       0  ...         0         0         0         0\n",
            "3           0       0       0       0  ...         0         0         0         0\n",
            "4           0       0       0       0  ...         0         0         0         0\n",
            "...       ...     ...     ...     ...  ...       ...       ...       ...       ...\n",
            "41993       0       0       0       0  ...         0         0         0         0\n",
            "41994       0       0       0       0  ...         0         0         0         0\n",
            "41995       0       0       0       0  ...         0         0         0         0\n",
            "41996       0       0       0       0  ...         0         0         0         0\n",
            "41997       0       0       0       0  ...         0         0         0         0\n",
            "\n",
            "[41998 rows x 784 columns]\n",
            "0        1\n",
            "1        0\n",
            "2        1\n",
            "3        4\n",
            "4        0\n",
            "        ..\n",
            "41993    6\n",
            "41994    4\n",
            "41995    0\n",
            "41996    1\n",
            "41997    7\n",
            "Name: label, Length: 41998, dtype: int64\n"
          ],
          "name": "stdout"
        }
      ]
    },
    {
      "cell_type": "code",
      "metadata": {
        "id": "iJEr7rVE0-kR",
        "colab_type": "code",
        "outputId": "9c5c6b55-d015-49aa-9047-979c8a47e265",
        "colab": {
          "base_uri": "https://localhost:8080/",
          "height": 54
        }
      },
      "source": [
        "## Normalization\n",
        "\n",
        "X = X/255.0\n",
        "test_data = test_data/255.0\n",
        "\n",
        "print(\"X:\", X.shape)\n",
        "print(\"test_data:\", test_data.shape)"
      ],
      "execution_count": 0,
      "outputs": [
        {
          "output_type": "stream",
          "text": [
            "X: (41998, 784)\n",
            "test_data: (27998, 784)\n"
          ],
          "name": "stdout"
        }
      ]
    },
    {
      "cell_type": "code",
      "metadata": {
        "id": "7JchSyMD0_G1",
        "colab_type": "code",
        "colab": {}
      },
      "source": [
        "# train test split\n",
        "X_train, X_test, y_train, y_test = train_test_split(X, y, test_size = 0.3, train_size = 0.2 ,random_state = 10)"
      ],
      "execution_count": 0,
      "outputs": []
    },
    {
      "cell_type": "code",
      "metadata": {
        "id": "pComaVNU1Bnt",
        "colab_type": "code",
        "colab": {}
      },
      "source": [
        "pca = PCA(n_components=50)\n",
        "pca.fit(X_train)\n",
        "transform_train = pca.transform(X_train)\n",
        "transform_test = pca.transform(X_test)"
      ],
      "execution_count": 0,
      "outputs": []
    },
    {
      "cell_type": "code",
      "metadata": {
        "id": "6YRYMXhI1E9G",
        "colab_type": "code",
        "colab": {}
      },
      "source": [
        "transform_train = pd.DataFrame(transform_train)\n",
        "transform_test = pd.DataFrame(transform_test)"
      ],
      "execution_count": 0,
      "outputs": []
    },
    {
      "cell_type": "code",
      "metadata": {
        "id": "WpoPy-N61JCa",
        "colab_type": "code",
        "outputId": "4b764bda-b5d6-4065-d5f7-f6b8dde9a9cd",
        "colab": {
          "base_uri": "https://localhost:8080/",
          "height": 35
        }
      },
      "source": [
        "#Setup a knn classifier with k neighbors\n",
        "model1_a = KNeighborsClassifier(n_neighbors=6,weights='distance')\n",
        "model1_a.fit(transform_train,y_train)\n",
        "pred1_a=model1_a.predict(transform_test)\n",
        "train_pred1_a=model1_a.predict(transform_train)\n",
        "print(model1_a.score(transform_test,y_test))"
      ],
      "execution_count": 0,
      "outputs": [
        {
          "output_type": "stream",
          "text": [
            "0.9592857142857143\n"
          ],
          "name": "stdout"
        }
      ]
    },
    {
      "cell_type": "code",
      "metadata": {
        "id": "fJC7kxqG1R1S",
        "colab_type": "code",
        "outputId": "646b01dc-09f5-4222-9c1e-d42812413b66",
        "colab": {
          "base_uri": "https://localhost:8080/",
          "height": 35
        }
      },
      "source": [
        "#Setup a knn classifier with k neighbors\n",
        "model1_b = KNeighborsClassifier(n_neighbors=6,p=2,algorithm='brute')\n",
        "model1_b.fit(transform_train,y_train)\n",
        "pred1_b=model1_b.predict(transform_test)\n",
        "train_pred1_b=model1_b.predict(transform_train)\n",
        "print(model1_b.score(transform_test,y_test))"
      ],
      "execution_count": 0,
      "outputs": [
        {
          "output_type": "stream",
          "text": [
            "0.9550793650793651\n"
          ],
          "name": "stdout"
        }
      ]
    },
    {
      "cell_type": "code",
      "metadata": {
        "id": "YNtqS7bM1Wr2",
        "colab_type": "code",
        "outputId": "cf614921-45b4-4dbb-97b9-7402fb709147",
        "colab": {
          "base_uri": "https://localhost:8080/",
          "height": 35
        }
      },
      "source": [
        "model1_c = SVC(kernel=\"rbf\",C=1, gamma=0.01)\n",
        "model1_c.fit(transform_train,y_train)\n",
        "pred1_c=model1_c.predict(transform_test)\n",
        "train_pred1_c=model1_c.predict(transform_train)\n",
        "model1_c.score(transform_test,y_test)"
      ],
      "execution_count": 0,
      "outputs": [
        {
          "output_type": "execute_result",
          "data": {
            "text/plain": [
              "0.957936507936508"
            ]
          },
          "metadata": {
            "tags": []
          },
          "execution_count": 384
        }
      ]
    },
    {
      "cell_type": "code",
      "metadata": {
        "id": "WlqNKo691ceM",
        "colab_type": "code",
        "outputId": "9e4d3ea7-c39a-424c-901a-8e86dd3c660c",
        "colab": {
          "base_uri": "https://localhost:8080/",
          "height": 35
        }
      },
      "source": [
        "model1_d =SVC(kernel=\"poly\",C=5, gamma=0.01)\n",
        "model1_d.fit(transform_train,y_train)\n",
        "pred1_d=model1_d.predict(transform_test)\n",
        "train_pred1_d=model1_d.predict(transform_train)\n",
        "model1_d.score(transform_test,y_test)"
      ],
      "execution_count": 0,
      "outputs": [
        {
          "output_type": "execute_result",
          "data": {
            "text/plain": [
              "0.9607142857142857"
            ]
          },
          "metadata": {
            "tags": []
          },
          "execution_count": 396
        }
      ]
    },
    {
      "cell_type": "code",
      "metadata": {
        "id": "wpfxajzb1pkN",
        "colab_type": "code",
        "outputId": "12c76c78-9dbb-4085-d842-addb63e0dfa6",
        "colab": {
          "base_uri": "https://localhost:8080/",
          "height": 35
        }
      },
      "source": [
        "model1_e = LGBMClassifier( random_state=5,n_estimators=250)\n",
        "model1_e.fit(transform_train,y_train)\n",
        "pred1_e=model1_e.predict(transform_test)\n",
        "train_pred1_e=model1_e.predict(transform_train)\n",
        "model1_e.score(transform_test,y_test)"
      ],
      "execution_count": 0,
      "outputs": [
        {
          "output_type": "execute_result",
          "data": {
            "text/plain": [
              "0.9465079365079365"
            ]
          },
          "metadata": {
            "tags": []
          },
          "execution_count": 397
        }
      ]
    },
    {
      "cell_type": "code",
      "metadata": {
        "id": "Ll7X4ObU2oGI",
        "colab_type": "code",
        "outputId": "18738bb6-30f2-41c6-df9b-f80c2c2e9100",
        "colab": {
          "base_uri": "https://localhost:8080/",
          "height": 35
        }
      },
      "source": [
        "model1_f = LGBMClassifier( random_state=5,learning_rate=0.5,max_depth=5)\n",
        "model1_f.fit(transform_train,y_train)\n",
        "pred1_f=model1_f.predict(transform_test)\n",
        "train_pred1_f=model1_f.predict(transform_train)\n",
        "model1_f.score(transform_test,y_test)"
      ],
      "execution_count": 0,
      "outputs": [
        {
          "output_type": "execute_result",
          "data": {
            "text/plain": [
              "0.9471428571428572"
            ]
          },
          "metadata": {
            "tags": []
          },
          "execution_count": 398
        }
      ]
    },
    {
      "cell_type": "code",
      "metadata": {
        "id": "yGE-FgQv20sA",
        "colab_type": "code",
        "outputId": "5ff79fbd-0723-4acb-b9e8-a47b71183ff7",
        "colab": {
          "base_uri": "https://localhost:8080/",
          "height": 35
        }
      },
      "source": [
        "model1_g = xgb.XGBClassifier(random_state=1,learning_rate=0.5,n_estimators=250)\n",
        "model1_g.fit(transform_train,y_train)\n",
        "pred1_g=model1_g.predict(transform_test)\n",
        "train_pred1_g=model1_g.predict(transform_train)\n",
        "model1_g.score(transform_test,y_test)"
      ],
      "execution_count": 0,
      "outputs": [
        {
          "output_type": "execute_result",
          "data": {
            "text/plain": [
              "0.9430952380952381"
            ]
          },
          "metadata": {
            "tags": []
          },
          "execution_count": 399
        }
      ]
    },
    {
      "cell_type": "code",
      "metadata": {
        "id": "spMeVbwH1gnP",
        "colab_type": "code",
        "outputId": "baeeaafc-01f8-4a0a-f7c3-cc3598e6144b",
        "colab": {
          "base_uri": "https://localhost:8080/",
          "height": 35
        }
      },
      "source": [
        "model1_h = RandomForestClassifier(n_estimators=300)\n",
        "model1_h.fit(transform_train,y_train)\n",
        "pred1_h=model1_h.predict(transform_test)\n",
        "train_pred1_h=model1_h.predict(transform_train)\n",
        "model1_h.score(transform_test,y_test)"
      ],
      "execution_count": 0,
      "outputs": [
        {
          "output_type": "execute_result",
          "data": {
            "text/plain": [
              "0.9318253968253968"
            ]
          },
          "metadata": {
            "tags": []
          },
          "execution_count": 400
        }
      ]
    },
    {
      "cell_type": "markdown",
      "metadata": {
        "id": "3LdwxytM3KRW",
        "colab_type": "text"
      },
      "source": [
        "# **PCA with 100 feaures(96.3% highest)**"
      ]
    },
    {
      "cell_type": "code",
      "metadata": {
        "id": "UnzAIdKI3TZS",
        "colab_type": "code",
        "colab": {}
      },
      "source": [
        "train_data = pd.read_csv(\"train.csv\")[:-2] #reading the csv files using pandas\n",
        "test_data = pd.read_csv(\"test.csv\")[:-2]"
      ],
      "execution_count": 0,
      "outputs": []
    },
    {
      "cell_type": "code",
      "metadata": {
        "id": "SIzezLBR3YWE",
        "colab_type": "code",
        "outputId": "2f0d31fc-67cc-4071-c109-e5e817957d0c",
        "colab": {
          "base_uri": "https://localhost:8080/",
          "height": 508
        }
      },
      "source": [
        "y = train_data['label']\n",
        "\n",
        "## Dropping the variable 'label' from X variable \n",
        "X = train_data.drop(columns = 'label')\n",
        "\n",
        "## Printing the size of data \n",
        "print(train_data.shape)\n",
        "print(X)\n",
        "print(y)"
      ],
      "execution_count": 0,
      "outputs": [
        {
          "output_type": "stream",
          "text": [
            "(41998, 785)\n",
            "       pixel0  pixel1  pixel2  pixel3  ...  pixel780  pixel781  pixel782  pixel783\n",
            "0           0       0       0       0  ...         0         0         0         0\n",
            "1           0       0       0       0  ...         0         0         0         0\n",
            "2           0       0       0       0  ...         0         0         0         0\n",
            "3           0       0       0       0  ...         0         0         0         0\n",
            "4           0       0       0       0  ...         0         0         0         0\n",
            "...       ...     ...     ...     ...  ...       ...       ...       ...       ...\n",
            "41993       0       0       0       0  ...         0         0         0         0\n",
            "41994       0       0       0       0  ...         0         0         0         0\n",
            "41995       0       0       0       0  ...         0         0         0         0\n",
            "41996       0       0       0       0  ...         0         0         0         0\n",
            "41997       0       0       0       0  ...         0         0         0         0\n",
            "\n",
            "[41998 rows x 784 columns]\n",
            "0        1\n",
            "1        0\n",
            "2        1\n",
            "3        4\n",
            "4        0\n",
            "        ..\n",
            "41993    6\n",
            "41994    4\n",
            "41995    0\n",
            "41996    1\n",
            "41997    7\n",
            "Name: label, Length: 41998, dtype: int64\n"
          ],
          "name": "stdout"
        }
      ]
    },
    {
      "cell_type": "code",
      "metadata": {
        "id": "rZDfuap03dTK",
        "colab_type": "code",
        "outputId": "04896bf4-1e71-447d-fb6e-864b85d0100f",
        "colab": {
          "base_uri": "https://localhost:8080/",
          "height": 54
        }
      },
      "source": [
        "## Normalization\n",
        "\n",
        "X = X/255.0\n",
        "test_data = test_data/255.0\n",
        "\n",
        "print(\"X:\", X.shape)\n",
        "print(\"test_data:\", test_data.shape)"
      ],
      "execution_count": 0,
      "outputs": [
        {
          "output_type": "stream",
          "text": [
            "X: (41998, 784)\n",
            "test_data: (27998, 784)\n"
          ],
          "name": "stdout"
        }
      ]
    },
    {
      "cell_type": "code",
      "metadata": {
        "id": "MyTeRO2G3hXe",
        "colab_type": "code",
        "colab": {}
      },
      "source": [
        "# train test split\n",
        "X_train, X_test, y_train, y_test = train_test_split(X, y, test_size = 0.3, train_size = 0.2 ,random_state = 10)\n"
      ],
      "execution_count": 0,
      "outputs": []
    },
    {
      "cell_type": "code",
      "metadata": {
        "id": "r3fbsyjH3iqW",
        "colab_type": "code",
        "colab": {}
      },
      "source": [
        "pca = PCA(n_components=100)\n",
        "pca.fit(X_train)\n",
        "transform_train = pca.transform(X_train)\n",
        "transform_test = pca.transform(X_test)"
      ],
      "execution_count": 0,
      "outputs": []
    },
    {
      "cell_type": "code",
      "metadata": {
        "id": "I3nEZ9eA3pmW",
        "colab_type": "code",
        "colab": {}
      },
      "source": [
        "transform_train = pd.DataFrame(transform_train)\n",
        "transform_test = pd.DataFrame(transform_test)"
      ],
      "execution_count": 0,
      "outputs": []
    },
    {
      "cell_type": "code",
      "metadata": {
        "id": "46MCf-fn3t_H",
        "colab_type": "code",
        "outputId": "aba7b33b-73f8-4bc5-9066-68fce34027e5",
        "colab": {
          "base_uri": "https://localhost:8080/",
          "height": 35
        }
      },
      "source": [
        "#Setup a knn classifier with k neighbors\n",
        "model2_a = KNeighborsClassifier(n_neighbors=6,weights='distance')\n",
        "model2_a.fit(transform_train,y_train)\n",
        "pred2_a=model2_a.predict(transform_test)\n",
        "train_pred2_a=model2_a.predict(transform_train)\n",
        "print(model2_a.score(transform_test,y_test))"
      ],
      "execution_count": 0,
      "outputs": [
        {
          "output_type": "stream",
          "text": [
            "0.9554761904761905\n"
          ],
          "name": "stdout"
        }
      ]
    },
    {
      "cell_type": "code",
      "metadata": {
        "id": "3WjpSO5n3z_t",
        "colab_type": "code",
        "outputId": "bc022d9a-f170-42b0-c3b8-274dcc887be1",
        "colab": {
          "base_uri": "https://localhost:8080/",
          "height": 35
        }
      },
      "source": [
        "#Setup a knn classifier with k neighbors\n",
        "model2_b = KNeighborsClassifier(n_neighbors=6,p=2,algorithm='brute')\n",
        "model2_b.fit(transform_train,y_train)\n",
        "pred2_b=model2_b.predict(transform_test)\n",
        "train_pred2_b=model2_b.predict(transform_train)\n",
        "print(model2_b.score(transform_test,y_test))"
      ],
      "execution_count": 0,
      "outputs": [
        {
          "output_type": "stream",
          "text": [
            "0.9496825396825397\n"
          ],
          "name": "stdout"
        }
      ]
    },
    {
      "cell_type": "code",
      "metadata": {
        "id": "JCDGmMzF378A",
        "colab_type": "code",
        "outputId": "f6b98960-41d2-45e7-dce9-2563928faa7c",
        "colab": {
          "base_uri": "https://localhost:8080/",
          "height": 35
        }
      },
      "source": [
        "model2_c = SVC(kernel=\"rbf\",C=1, gamma=0.01)\n",
        "model2_c.fit(transform_train,y_train)\n",
        "pred2_c=model2_c.predict(transform_test)\n",
        "train_pred2_c=model2_c.predict(transform_train)\n",
        "model2_c.score(transform_test,y_test)"
      ],
      "execution_count": 0,
      "outputs": [
        {
          "output_type": "execute_result",
          "data": {
            "text/plain": [
              "0.959047619047619"
            ]
          },
          "metadata": {
            "tags": []
          },
          "execution_count": 410
        }
      ]
    },
    {
      "cell_type": "code",
      "metadata": {
        "id": "JavAJn164EYa",
        "colab_type": "code",
        "outputId": "083f2f62-538c-49fa-bd5b-e8fdfe2a8913",
        "colab": {
          "base_uri": "https://localhost:8080/",
          "height": 35
        }
      },
      "source": [
        "model2_d =SVC(kernel=\"poly\",C=5, gamma=0.01,class_weight='balanced',degree=3,)\n",
        "model2_d.fit(transform_train,y_train)\n",
        "pred2_d=model2_d.predict(transform_test)\n",
        "train_pred2_d=model2_d.predict(transform_train)\n",
        "model2_d.score(transform_test,y_test)"
      ],
      "execution_count": 0,
      "outputs": [
        {
          "output_type": "execute_result",
          "data": {
            "text/plain": [
              "0.9636507936507936"
            ]
          },
          "metadata": {
            "tags": []
          },
          "execution_count": 411
        }
      ]
    },
    {
      "cell_type": "code",
      "metadata": {
        "id": "4gaYu3g04bna",
        "colab_type": "code",
        "outputId": "d51e056c-1e7c-41f0-ff08-c8c1f96885d0",
        "colab": {
          "base_uri": "https://localhost:8080/",
          "height": 35
        }
      },
      "source": [
        "model2_e = LGBMClassifier( random_state=5,n_estimators=250)\n",
        "model2_e.fit(transform_train,y_train)\n",
        "pred2_e=model2_e.predict(transform_test)\n",
        "train_pred2_e=model2_e.predict(transform_train)\n",
        "model2_e.score(transform_test,y_test)"
      ],
      "execution_count": 0,
      "outputs": [
        {
          "output_type": "execute_result",
          "data": {
            "text/plain": [
              "0.9452380952380952"
            ]
          },
          "metadata": {
            "tags": []
          },
          "execution_count": 412
        }
      ]
    },
    {
      "cell_type": "code",
      "metadata": {
        "id": "eGZS86QB5Abn",
        "colab_type": "code",
        "outputId": "67f7fac3-654a-481d-b56d-2acf649b1969",
        "colab": {
          "base_uri": "https://localhost:8080/",
          "height": 35
        }
      },
      "source": [
        "model2_f = LGBMClassifier( random_state=5,learning_rate=0.5,max_depth=5)\n",
        "model2_f.fit(transform_train,y_train)\n",
        "pred2_f=model2_f.predict(transform_test)\n",
        "train_pred2_f=model2_f.predict(transform_train)\n",
        "model2_f.score(transform_test,y_test)"
      ],
      "execution_count": 0,
      "outputs": [
        {
          "output_type": "execute_result",
          "data": {
            "text/plain": [
              "0.9426190476190476"
            ]
          },
          "metadata": {
            "tags": []
          },
          "execution_count": 413
        }
      ]
    },
    {
      "cell_type": "code",
      "metadata": {
        "id": "Fjd4f03g5NcZ",
        "colab_type": "code",
        "outputId": "3f505945-6b75-4eff-d2c8-460bb7c77ae8",
        "colab": {
          "base_uri": "https://localhost:8080/",
          "height": 35
        }
      },
      "source": [
        "model2_g = xgb.XGBClassifier(random_state=1,learning_rate=0.5,n_estimators=250)\n",
        "model2_g.fit(transform_train,y_train)\n",
        "pred2_g=model2_g.predict(transform_test)\n",
        "train_pred2_g=model2_g.predict(transform_train)\n",
        "model2_g.score(transform_test,y_test)"
      ],
      "execution_count": 0,
      "outputs": [
        {
          "output_type": "execute_result",
          "data": {
            "text/plain": [
              "0.9396825396825397"
            ]
          },
          "metadata": {
            "tags": []
          },
          "execution_count": 414
        }
      ]
    },
    {
      "cell_type": "code",
      "metadata": {
        "id": "YCNlg0Fp43ZI",
        "colab_type": "code",
        "outputId": "fa2974e4-aff2-4b57-bd41-d720c00b6622",
        "colab": {
          "base_uri": "https://localhost:8080/",
          "height": 35
        }
      },
      "source": [
        "model2_h = RandomForestClassifier(n_estimators=300)\n",
        "model2_h.fit(transform_train,y_train)\n",
        "pred2_h=model2_h.predict(transform_test)\n",
        "train_pred2_h=model2_h.predict(transform_train)\n",
        "model2_h.score(transform_test,y_test)"
      ],
      "execution_count": 0,
      "outputs": [
        {
          "output_type": "execute_result",
          "data": {
            "text/plain": [
              "0.9302380952380952"
            ]
          },
          "metadata": {
            "tags": []
          },
          "execution_count": 415
        }
      ]
    },
    {
      "cell_type": "code",
      "metadata": {
        "id": "I3B_1_Ef5UhA",
        "colab_type": "code",
        "outputId": "ed10324a-31b8-48df-9e89-5bd2b67250ae",
        "colab": {
          "base_uri": "https://localhost:8080/",
          "height": 308
        }
      },
      "source": [
        "print(pred1_a)\n",
        "print(pred1_b)\n",
        "print(pred1_c)\n",
        "print(pred1_d)\n",
        "print(pred1_e)\n",
        "print(pred1_f)\n",
        "print(pred1_g)\n",
        "print(pred1_h)\n",
        "print(pred2_a)\n",
        "print(pred2_b)\n",
        "print(pred2_c)\n",
        "print(pred2_d)\n",
        "print(pred2_e)\n",
        "print(pred2_f)\n",
        "print(pred2_g)\n",
        "print(pred2_h)"
      ],
      "execution_count": 0,
      "outputs": [
        {
          "output_type": "stream",
          "text": [
            "[0 8 0 ... 0 6 7]\n",
            "[0 8 0 ... 0 6 7]\n",
            "[0 8 0 ... 0 6 7]\n",
            "[0 8 0 ... 0 6 7]\n",
            "[0 8 0 ... 0 6 7]\n",
            "[0 8 0 ... 0 6 7]\n",
            "[0 8 0 ... 0 6 7]\n",
            "[0 8 0 ... 0 6 7]\n",
            "[0 8 0 ... 0 6 7]\n",
            "[0 8 0 ... 0 6 7]\n",
            "[0 8 0 ... 0 6 7]\n",
            "[0 8 0 ... 0 6 7]\n",
            "[0 8 0 ... 0 6 7]\n",
            "[0 8 0 ... 0 6 7]\n",
            "[0 8 0 ... 0 6 7]\n",
            "[0 8 0 ... 0 6 7]\n"
          ],
          "name": "stdout"
        }
      ]
    },
    {
      "cell_type": "markdown",
      "metadata": {
        "id": "kit0O8cL5vqP",
        "colab_type": "text"
      },
      "source": [
        "# **On Entire dataset(96.26% highest)**"
      ]
    },
    {
      "cell_type": "code",
      "metadata": {
        "id": "xleubRY753xN",
        "colab_type": "code",
        "colab": {}
      },
      "source": [
        "train_data = pd.read_csv(\"train.csv\")[:-2] #reading the csv files using pandas\n",
        "test_data = pd.read_csv(\"test.csv\")[:-2]"
      ],
      "execution_count": 0,
      "outputs": []
    },
    {
      "cell_type": "code",
      "metadata": {
        "id": "XBQHIYqE5_p1",
        "colab_type": "code",
        "outputId": "d55a6f83-1e65-4a1b-aa9d-74d79c606550",
        "colab": {
          "base_uri": "https://localhost:8080/",
          "height": 35
        }
      },
      "source": [
        "## Separating the X and Y variable\n",
        "\n",
        "y = train_data['label']\n",
        "\n",
        "## Dropping the variable 'label' from X variable \n",
        "X = train_data.drop(columns = 'label')\n",
        "\n",
        "## Printing the size of data \n",
        "print(train_data.shape)"
      ],
      "execution_count": 0,
      "outputs": [
        {
          "output_type": "stream",
          "text": [
            "(41998, 785)\n"
          ],
          "name": "stdout"
        }
      ]
    },
    {
      "cell_type": "code",
      "metadata": {
        "id": "K1dchfwr6B48",
        "colab_type": "code",
        "outputId": "2d1e4aa8-2c8c-49cc-b127-6815ed21c0bd",
        "colab": {
          "base_uri": "https://localhost:8080/",
          "height": 54
        }
      },
      "source": [
        "## Normalization\n",
        "\n",
        "X = X/255.0\n",
        "test_data = test_data/255.0\n",
        "\n",
        "print(\"X:\", X.shape)\n",
        "print(\"test_data:\", test_data.shape)"
      ],
      "execution_count": 0,
      "outputs": [
        {
          "output_type": "stream",
          "text": [
            "X: (41998, 784)\n",
            "test_data: (27998, 784)\n"
          ],
          "name": "stdout"
        }
      ]
    },
    {
      "cell_type": "code",
      "metadata": {
        "id": "K4w4pxzn6E71",
        "colab_type": "code",
        "colab": {}
      },
      "source": [
        "# train test split\n",
        "X_train, X_test, y_train, y_test = train_test_split(X, y, test_size = 0.3, train_size = 0.2 ,random_state = 10)"
      ],
      "execution_count": 0,
      "outputs": []
    },
    {
      "cell_type": "code",
      "metadata": {
        "id": "MZ5BLgVDdiUf",
        "colab_type": "code",
        "outputId": "4d954188-29e9-4dc0-b312-35439e95f1a2",
        "colab": {
          "base_uri": "https://localhost:8080/",
          "height": 35
        }
      },
      "source": [
        "model3_a = KNeighborsClassifier(n_neighbors=5,weights='distance')\n",
        "model3_a.fit(X_train,y_train)\n",
        "pred3_a=model3_a.predict(X_test)\n",
        "train_pred3_a=model3_a.predict(X_train)\n",
        "model3_a.score(X_test,y_test)\n"
      ],
      "execution_count": 0,
      "outputs": [
        {
          "output_type": "execute_result",
          "data": {
            "text/plain": [
              "0.9500793650793651"
            ]
          },
          "metadata": {
            "tags": []
          },
          "execution_count": 421
        }
      ]
    },
    {
      "cell_type": "code",
      "metadata": {
        "id": "GvDMglzp8okA",
        "colab_type": "code",
        "outputId": "8b9e732e-f00b-49ae-89f7-7af257c305a5",
        "colab": {
          "base_uri": "https://localhost:8080/",
          "height": 35
        }
      },
      "source": [
        "model3_b = SVC(kernel=\"rbf\")\n",
        "model3_b.fit(X_train,y_train)\n",
        "pred3_b=model3_b.predict(X_test)\n",
        "train_pred3_b=model3_b.predict(X_train)\n",
        "model3_b.score(X_test,y_test)"
      ],
      "execution_count": 0,
      "outputs": [
        {
          "output_type": "execute_result",
          "data": {
            "text/plain": [
              "0.9626984126984127"
            ]
          },
          "metadata": {
            "tags": []
          },
          "execution_count": 422
        }
      ]
    },
    {
      "cell_type": "code",
      "metadata": {
        "id": "SoaVhzwt6433",
        "colab_type": "code",
        "outputId": "b87c993d-3600-4f93-9a21-6ceb749d2a0b",
        "colab": {
          "base_uri": "https://localhost:8080/",
          "height": 35
        }
      },
      "source": [
        "model3_c = SVC(kernel=\"poly\",C=10, gamma=0.1)\n",
        "model3_c.fit(X_train,y_train)\n",
        "pred3_c=model3_c.predict(X_test)\n",
        "train_pred3_c=model3_c.predict(X_train)\n",
        "model3_c.score(X_test,y_test)\n"
      ],
      "execution_count": 0,
      "outputs": [
        {
          "output_type": "execute_result",
          "data": {
            "text/plain": [
              "0.954920634920635"
            ]
          },
          "metadata": {
            "tags": []
          },
          "execution_count": 423
        }
      ]
    },
    {
      "cell_type": "code",
      "metadata": {
        "id": "I8PzDGzP9_Lq",
        "colab_type": "code",
        "outputId": "ac58622b-defe-4757-a6b9-3d347dc344da",
        "colab": {
          "base_uri": "https://localhost:8080/",
          "height": 35
        }
      },
      "source": [
        "model3_d = RandomForestClassifier(n_estimators=500,)\n",
        "model3_d.fit(X_train,y_train)\n",
        "pred3_d=model3_d.predict(X_test)\n",
        "train_pred3_d=model3_d.predict(X_train)\n",
        "model3_d.score(X_test,y_test)"
      ],
      "execution_count": 0,
      "outputs": [
        {
          "output_type": "execute_result",
          "data": {
            "text/plain": [
              "0.9531746031746032"
            ]
          },
          "metadata": {
            "tags": []
          },
          "execution_count": 424
        }
      ]
    },
    {
      "cell_type": "code",
      "metadata": {
        "id": "4kDOzuF9-I8t",
        "colab_type": "code",
        "outputId": "8c096d8a-9e86-4ff0-8476-6028aa6bdb4a",
        "colab": {
          "base_uri": "https://localhost:8080/",
          "height": 35
        }
      },
      "source": [
        "model3_e = LGBMClassifier( random_state=5,n_estimators=300)\n",
        "model3_e.fit(X_train,y_train)\n",
        "pred3_e=model3_e.predict(X_test)\n",
        "train_pred3_e=model3_e.predict(X_train)\n",
        "model3_e.score(X_test,y_test)"
      ],
      "execution_count": 0,
      "outputs": [
        {
          "output_type": "execute_result",
          "data": {
            "text/plain": [
              "0.960952380952381"
            ]
          },
          "metadata": {
            "tags": []
          },
          "execution_count": 425
        }
      ]
    },
    {
      "cell_type": "code",
      "metadata": {
        "id": "6Z-yQ6Q3-VC4",
        "colab_type": "code",
        "outputId": "f5fce9c1-8012-4603-c6e7-ff29810fbee9",
        "colab": {
          "base_uri": "https://localhost:8080/",
          "height": 35
        }
      },
      "source": [
        "model3_f = xgb.XGBClassifier(random_state=1,learning_rate=0.01,n_estimators=100,max_depth=5)\n",
        "model3_f.fit(X_train,y_train)\n",
        "pred3_f=model3_f.predict(X_test)\n",
        "train_pred3_f=model3_f.predict(X_train)\n",
        "model3_f.score(X_test,y_test)"
      ],
      "execution_count": 0,
      "outputs": [
        {
          "output_type": "execute_result",
          "data": {
            "text/plain": [
              "0.8885714285714286"
            ]
          },
          "metadata": {
            "tags": []
          },
          "execution_count": 426
        }
      ]
    },
    {
      "cell_type": "code",
      "metadata": {
        "id": "17mCBTIw-kJW",
        "colab_type": "code",
        "outputId": "ca699195-1f07-40fa-d91c-b00ab08e24e9",
        "colab": {
          "base_uri": "https://localhost:8080/",
          "height": 417
        }
      },
      "source": [
        "print(pred1_a)\n",
        "print(pred1_b)\n",
        "print(pred1_c)\n",
        "print(pred1_d)\n",
        "print(pred1_e)\n",
        "print(pred1_f)\n",
        "print(pred1_g)\n",
        "print(pred1_h)\n",
        "print(pred2_a)\n",
        "print(pred2_b)\n",
        "print(pred2_c)\n",
        "print(pred2_d)\n",
        "print(pred2_e)\n",
        "print(pred2_f)\n",
        "print(pred2_g)\n",
        "print(pred2_h)\n",
        "print(pred3_a)\n",
        "print(pred3_b)\n",
        "print(pred3_c)\n",
        "print(pred3_d)\n",
        "print(pred3_e)\n",
        "print(pred3_f)"
      ],
      "execution_count": 0,
      "outputs": [
        {
          "output_type": "stream",
          "text": [
            "[0 8 0 ... 0 6 7]\n",
            "[0 8 0 ... 0 6 7]\n",
            "[0 8 0 ... 0 6 7]\n",
            "[0 8 0 ... 0 6 7]\n",
            "[0 8 0 ... 0 6 7]\n",
            "[0 8 0 ... 0 6 7]\n",
            "[0 8 0 ... 0 6 7]\n",
            "[0 8 0 ... 0 6 7]\n",
            "[0 8 0 ... 0 6 7]\n",
            "[0 8 0 ... 0 6 7]\n",
            "[0 8 0 ... 0 6 7]\n",
            "[0 8 0 ... 0 6 7]\n",
            "[0 8 0 ... 0 6 7]\n",
            "[0 8 0 ... 0 6 7]\n",
            "[0 8 0 ... 0 6 7]\n",
            "[0 8 0 ... 0 6 7]\n",
            "[0 8 0 ... 0 6 7]\n",
            "[0 8 0 ... 0 6 7]\n",
            "[0 8 0 ... 0 6 7]\n",
            "[0 8 0 ... 0 6 7]\n",
            "[0 8 0 ... 0 6 7]\n",
            "[0 8 0 ... 0 6 7]\n"
          ],
          "name": "stdout"
        }
      ]
    },
    {
      "cell_type": "markdown",
      "metadata": {
        "id": "rjR1ZeUtAhep",
        "colab_type": "text"
      },
      "source": [
        "# **Voting of above algo(96.66% highest)**"
      ]
    },
    {
      "cell_type": "code",
      "metadata": {
        "id": "1Yny38bMXAhL",
        "colab_type": "code",
        "colab": {}
      },
      "source": [
        ""
      ],
      "execution_count": 0,
      "outputs": []
    },
    {
      "cell_type": "code",
      "metadata": {
        "id": "2S2OMdaZAnjW",
        "colab_type": "code",
        "colab": {}
      },
      "source": [
        "from statistics import mode\n",
        "final_pred = np.array([])\n",
        "for i in range(0,len(X_test)):\n",
        "  try:\n",
        "    final_pred = np.append(final_pred, mode([pred1_a[i], pred1_b[i], pred1_c[i], pred1_d[i],pred1_e[i],pred1_f[i],pred1_g[i],pred1_h[i],pred2_a[i], pred2_b[i], pred2_c[i], pred2_d[i],pred2_e[i],pred3_a[i], pred3_b[i], pred3_c[i], pred3_d[i],pred3_e[i]]))\n",
        "  except:\n",
        "    try:\n",
        "      final_pred = np.append(final_pred, mode([ pred1_c[i], pred1_d[i], pred2_c[i], pred2_d[i], pred3_b[i],pred3_e[i]]))\n",
        "    except:\n",
        "      final_pred = np.append(final_pred,pred2_c[i])\n",
        "\n",
        "    "
      ],
      "execution_count": 0,
      "outputs": []
    },
    {
      "cell_type": "code",
      "metadata": {
        "id": "JdeQm7gHCvCt",
        "colab_type": "code",
        "outputId": "c9fc0376-9008-4503-da4e-16e974d26c22",
        "colab": {
          "base_uri": "https://localhost:8080/",
          "height": 235
        }
      },
      "source": [
        "# confusion matrix and accuracy\n",
        "\n",
        "# accuracy\n",
        "print(\"accuracy:\", metrics.accuracy_score(y_true=y_test, y_pred=final_pred), \"\\n\")\n",
        "\n",
        "# cm\n",
        "print(metrics.confusion_matrix(y_true=y_test, y_pred=final_pred))"
      ],
      "execution_count": 0,
      "outputs": [
        {
          "output_type": "stream",
          "text": [
            "accuracy: 0.9656349206349206 \n",
            "\n",
            "[[1197    0    2    0    0    2   10    0    8    2]\n",
            " [   0 1353    4    4    4    1    2    2    2    0]\n",
            " [   2    8 1204    5    7    1    4    5   11    1]\n",
            " [   1    5   13 1272    0   21    0    9    6    3]\n",
            " [   2    6    3    1 1172    1    8    1    2   27]\n",
            " [   2    3    2   17    0 1102    8    0    5    3]\n",
            " [   5    1    2    0    1    7 1212    0    2    0]\n",
            " [   2   13    8    2    5    1    0 1321    1   21]\n",
            " [   1   11    4   15    3   14    5    1 1166    5]\n",
            " [   3    1    1   12   20    6    0   18    6 1168]]\n"
          ],
          "name": "stdout"
        }
      ]
    },
    {
      "cell_type": "code",
      "metadata": {
        "id": "6pc9e4XcDaBT",
        "colab_type": "code",
        "outputId": "b2ba654e-c01e-4133-86d3-1f593e6be163",
        "colab": {
          "base_uri": "https://localhost:8080/",
          "height": 235
        }
      },
      "source": [
        "from statistics import mode\n",
        "final_pred = np.array([])\n",
        "pred = np.array([])\n",
        "for i in range(0,len(X_test)):\n",
        "  try:\n",
        "    final_pred = np.append(final_pred, mode([ pred1_b[i], pred1_c[i], pred1_d[i],pred2_a[i], pred2_b[i], pred2_c[i], pred2_d[i],pred2_e[i],pred3_a[i],pred3_e[i]]))\n",
        "  except:\n",
        "    try:\n",
        "      final_pred = np.append(final_pred, mode([ pred1_c[i], pred1_d[i], pred2_c[i], pred2_d[i], ]))\n",
        "    except:\n",
        "      final_pred = np.append(final_pred,pred2_c[i])\n",
        "\n",
        "# confusion matrix and accuracy\n",
        "\n",
        "# accuracy\n",
        "print(\"accuracy:\", metrics.accuracy_score(y_true=y_test, y_pred=final_pred), \"\\n\")\n",
        "\n",
        "# cm\n",
        "print(metrics.confusion_matrix(y_true=y_test, y_pred=final_pred))"
      ],
      "execution_count": 0,
      "outputs": [
        {
          "output_type": "stream",
          "text": [
            "accuracy: 0.9661111111111111 \n",
            "\n",
            "[[1197    0    2    0    1    2    8    0    9    2]\n",
            " [   0 1354    4    3    4    1    1    3    2    0]\n",
            " [   2    9 1205    3    6    1    3    5   13    1]\n",
            " [   0    5   12 1270    0   21    0   10    7    5]\n",
            " [   1    5    2    1 1179    1    5    1    2   26]\n",
            " [   1    3    1   17    0 1105    8    0    4    3]\n",
            " [   6    1    1    0    1    8 1212    0    1    0]\n",
            " [   1   15    8    2    7    1    1 1316    1   22]\n",
            " [   1   14    2   12    3   15    4    1 1167    6]\n",
            " [   4    2    1   14   18    5    0   16    7 1168]]\n"
          ],
          "name": "stdout"
        }
      ]
    },
    {
      "cell_type": "markdown",
      "metadata": {
        "id": "jj6BW5DqWDO2",
        "colab_type": "text"
      },
      "source": [
        "# **Stacking Level 1(96.3% highest)**"
      ]
    },
    {
      "cell_type": "markdown",
      "metadata": {
        "id": "g8JzUJuxfwWh",
        "colab_type": "text"
      },
      "source": [
        "# **On all**"
      ]
    },
    {
      "cell_type": "code",
      "metadata": {
        "id": "XYSVz3PUXCdO",
        "colab_type": "code",
        "colab": {}
      },
      "source": [
        "pred1_a=pd.DataFrame(pred1_a)\n",
        "pred1_b=pd.DataFrame(pred1_b)\n",
        "pred1_c=pd.DataFrame(pred1_c)\n",
        "pred1_d=pd.DataFrame(pred1_d)\n",
        "pred1_e=pd.DataFrame(pred1_e)\n",
        "pred1_f=pd.DataFrame(pred1_f)\n",
        "pred1_g=pd.DataFrame(pred1_g)\n",
        "pred1_h=pd.DataFrame(pred1_h)\n",
        "\n",
        "pred2_a=pd.DataFrame(pred2_a)\n",
        "pred2_b=pd.DataFrame(pred2_b)\n",
        "pred2_c=pd.DataFrame(pred2_c)\n",
        "pred2_d=pd.DataFrame(pred2_d)\n",
        "pred2_e=pd.DataFrame(pred2_e)\n",
        "pred2_f=pd.DataFrame(pred2_f)\n",
        "pred2_g=pd.DataFrame(pred2_g)\n",
        "pred2_h=pd.DataFrame(pred2_h)\n",
        "\n",
        "pred3_a=pd.DataFrame(pred3_a)\n",
        "pred3_b=pd.DataFrame(pred3_b)\n",
        "pred3_c=pd.DataFrame(pred3_c)\n",
        "pred3_d=pd.DataFrame(pred3_d)\n",
        "pred3_e=pd.DataFrame(pred3_e)\n",
        "\n"
      ],
      "execution_count": 0,
      "outputs": []
    },
    {
      "cell_type": "code",
      "metadata": {
        "id": "8ofzf34KWGvK",
        "colab_type": "code",
        "colab": {}
      },
      "source": [
        "df = pd.concat([pred1_a, pred1_b,pred1_c,pred1_d,pred1_e,pred1_f,pred1_g,pred2_a, pred2_b,pred2_c,pred2_d,pred2_e,pred2_f,pred2_g,pred3_a,pred3_b,pred3_c,pred3_d,pred3_e], axis=1)"
      ],
      "execution_count": 0,
      "outputs": []
    },
    {
      "cell_type": "code",
      "metadata": {
        "id": "JB6SJs86Yi_j",
        "colab_type": "code",
        "outputId": "1951c819-a758-4d7a-a8fb-978dadb331e1",
        "colab": {
          "base_uri": "https://localhost:8080/",
          "height": 198
        }
      },
      "source": [
        "df.head()"
      ],
      "execution_count": 0,
      "outputs": [
        {
          "output_type": "execute_result",
          "data": {
            "text/html": [
              "<div>\n",
              "<style scoped>\n",
              "    .dataframe tbody tr th:only-of-type {\n",
              "        vertical-align: middle;\n",
              "    }\n",
              "\n",
              "    .dataframe tbody tr th {\n",
              "        vertical-align: top;\n",
              "    }\n",
              "\n",
              "    .dataframe thead th {\n",
              "        text-align: right;\n",
              "    }\n",
              "</style>\n",
              "<table border=\"1\" class=\"dataframe\">\n",
              "  <thead>\n",
              "    <tr style=\"text-align: right;\">\n",
              "      <th></th>\n",
              "      <th>0</th>\n",
              "      <th>0</th>\n",
              "      <th>0</th>\n",
              "      <th>0</th>\n",
              "      <th>0</th>\n",
              "      <th>0</th>\n",
              "      <th>0</th>\n",
              "      <th>0</th>\n",
              "      <th>0</th>\n",
              "      <th>0</th>\n",
              "      <th>0</th>\n",
              "      <th>0</th>\n",
              "      <th>0</th>\n",
              "      <th>0</th>\n",
              "      <th>0</th>\n",
              "      <th>0</th>\n",
              "      <th>0</th>\n",
              "      <th>0</th>\n",
              "      <th>0</th>\n",
              "    </tr>\n",
              "  </thead>\n",
              "  <tbody>\n",
              "    <tr>\n",
              "      <th>0</th>\n",
              "      <td>0</td>\n",
              "      <td>0</td>\n",
              "      <td>0</td>\n",
              "      <td>0</td>\n",
              "      <td>0</td>\n",
              "      <td>0</td>\n",
              "      <td>0</td>\n",
              "      <td>0</td>\n",
              "      <td>0</td>\n",
              "      <td>0</td>\n",
              "      <td>0</td>\n",
              "      <td>0</td>\n",
              "      <td>0</td>\n",
              "      <td>0</td>\n",
              "      <td>0</td>\n",
              "      <td>0</td>\n",
              "      <td>0</td>\n",
              "      <td>0</td>\n",
              "      <td>0</td>\n",
              "    </tr>\n",
              "    <tr>\n",
              "      <th>1</th>\n",
              "      <td>8</td>\n",
              "      <td>8</td>\n",
              "      <td>8</td>\n",
              "      <td>8</td>\n",
              "      <td>8</td>\n",
              "      <td>8</td>\n",
              "      <td>8</td>\n",
              "      <td>8</td>\n",
              "      <td>8</td>\n",
              "      <td>8</td>\n",
              "      <td>8</td>\n",
              "      <td>8</td>\n",
              "      <td>8</td>\n",
              "      <td>8</td>\n",
              "      <td>8</td>\n",
              "      <td>8</td>\n",
              "      <td>8</td>\n",
              "      <td>8</td>\n",
              "      <td>8</td>\n",
              "    </tr>\n",
              "    <tr>\n",
              "      <th>2</th>\n",
              "      <td>0</td>\n",
              "      <td>0</td>\n",
              "      <td>0</td>\n",
              "      <td>0</td>\n",
              "      <td>0</td>\n",
              "      <td>0</td>\n",
              "      <td>0</td>\n",
              "      <td>0</td>\n",
              "      <td>0</td>\n",
              "      <td>0</td>\n",
              "      <td>0</td>\n",
              "      <td>0</td>\n",
              "      <td>0</td>\n",
              "      <td>0</td>\n",
              "      <td>0</td>\n",
              "      <td>0</td>\n",
              "      <td>0</td>\n",
              "      <td>0</td>\n",
              "      <td>0</td>\n",
              "    </tr>\n",
              "    <tr>\n",
              "      <th>3</th>\n",
              "      <td>1</td>\n",
              "      <td>1</td>\n",
              "      <td>1</td>\n",
              "      <td>1</td>\n",
              "      <td>1</td>\n",
              "      <td>1</td>\n",
              "      <td>1</td>\n",
              "      <td>1</td>\n",
              "      <td>1</td>\n",
              "      <td>1</td>\n",
              "      <td>1</td>\n",
              "      <td>1</td>\n",
              "      <td>1</td>\n",
              "      <td>1</td>\n",
              "      <td>1</td>\n",
              "      <td>1</td>\n",
              "      <td>1</td>\n",
              "      <td>1</td>\n",
              "      <td>1</td>\n",
              "    </tr>\n",
              "    <tr>\n",
              "      <th>4</th>\n",
              "      <td>7</td>\n",
              "      <td>7</td>\n",
              "      <td>7</td>\n",
              "      <td>7</td>\n",
              "      <td>7</td>\n",
              "      <td>7</td>\n",
              "      <td>7</td>\n",
              "      <td>7</td>\n",
              "      <td>7</td>\n",
              "      <td>7</td>\n",
              "      <td>7</td>\n",
              "      <td>7</td>\n",
              "      <td>7</td>\n",
              "      <td>7</td>\n",
              "      <td>7</td>\n",
              "      <td>7</td>\n",
              "      <td>7</td>\n",
              "      <td>7</td>\n",
              "      <td>7</td>\n",
              "    </tr>\n",
              "  </tbody>\n",
              "</table>\n",
              "</div>"
            ],
            "text/plain": [
              "   0  0  0  0  0  0  0  0  0  0  0  0  0  0  0  0  0  0  0\n",
              "0  0  0  0  0  0  0  0  0  0  0  0  0  0  0  0  0  0  0  0\n",
              "1  8  8  8  8  8  8  8  8  8  8  8  8  8  8  8  8  8  8  8\n",
              "2  0  0  0  0  0  0  0  0  0  0  0  0  0  0  0  0  0  0  0\n",
              "3  1  1  1  1  1  1  1  1  1  1  1  1  1  1  1  1  1  1  1\n",
              "4  7  7  7  7  7  7  7  7  7  7  7  7  7  7  7  7  7  7  7"
            ]
          },
          "metadata": {
            "tags": []
          },
          "execution_count": 433
        }
      ]
    },
    {
      "cell_type": "code",
      "metadata": {
        "id": "h0QAQdRGYvDm",
        "colab_type": "code",
        "colab": {}
      },
      "source": [
        "train_pred1_a=pd.DataFrame(train_pred1_a)\n",
        "train_pred1_b=pd.DataFrame(train_pred1_b)\n",
        "train_pred1_c=pd.DataFrame(train_pred1_c)\n",
        "train_pred1_d=pd.DataFrame(train_pred1_d)\n",
        "train_pred1_e=pd.DataFrame(train_pred1_e)\n",
        "train_pred1_f=pd.DataFrame(train_pred1_f)\n",
        "train_pred1_g=pd.DataFrame(train_pred1_g)\n",
        "train_pred1_h=pd.DataFrame(train_pred1_h)\n",
        "\n",
        "train_pred2_a=pd.DataFrame(train_pred2_a)\n",
        "train_pred2_b=pd.DataFrame(train_pred2_b)\n",
        "train_pred2_c=pd.DataFrame(train_pred2_c)\n",
        "train_pred2_d=pd.DataFrame(train_pred2_d)\n",
        "train_pred2_e=pd.DataFrame(train_pred2_e)\n",
        "train_pred2_f=pd.DataFrame(train_pred2_f)\n",
        "train_pred2_g=pd.DataFrame(train_pred2_g)\n",
        "train_pred2_h=pd.DataFrame(train_pred2_h)\n",
        "\n",
        "train_pred3_a=pd.DataFrame(train_pred3_a)\n",
        "train_pred3_b=pd.DataFrame(train_pred3_b)\n",
        "train_pred3_c=pd.DataFrame(train_pred3_c)\n",
        "train_pred3_d=pd.DataFrame(train_pred3_d)\n",
        "train_pred3_e=pd.DataFrame(train_pred3_e)"
      ],
      "execution_count": 0,
      "outputs": []
    },
    {
      "cell_type": "code",
      "metadata": {
        "id": "K1gyt4AfYoWt",
        "colab_type": "code",
        "colab": {}
      },
      "source": [
        "train_df = pd.concat([train_pred1_a, train_pred1_b,train_pred1_c,train_pred1_d,train_pred1_e,train_pred1_f,train_pred1_g,train_pred2_a, train_pred2_b,train_pred2_c,train_pred2_d,train_pred2_e,train_pred2_f,train_pred2_g,train_pred3_a,train_pred3_b,train_pred3_c,train_pred3_d,train_pred3_e], axis=1)"
      ],
      "execution_count": 0,
      "outputs": []
    },
    {
      "cell_type": "code",
      "metadata": {
        "id": "9JIth45jZjEQ",
        "colab_type": "code",
        "outputId": "d4e0d995-15c3-4996-f043-822d769f1eb1",
        "colab": {
          "base_uri": "https://localhost:8080/",
          "height": 198
        }
      },
      "source": [
        "train_df.head()"
      ],
      "execution_count": 0,
      "outputs": [
        {
          "output_type": "execute_result",
          "data": {
            "text/html": [
              "<div>\n",
              "<style scoped>\n",
              "    .dataframe tbody tr th:only-of-type {\n",
              "        vertical-align: middle;\n",
              "    }\n",
              "\n",
              "    .dataframe tbody tr th {\n",
              "        vertical-align: top;\n",
              "    }\n",
              "\n",
              "    .dataframe thead th {\n",
              "        text-align: right;\n",
              "    }\n",
              "</style>\n",
              "<table border=\"1\" class=\"dataframe\">\n",
              "  <thead>\n",
              "    <tr style=\"text-align: right;\">\n",
              "      <th></th>\n",
              "      <th>0</th>\n",
              "      <th>0</th>\n",
              "      <th>0</th>\n",
              "      <th>0</th>\n",
              "      <th>0</th>\n",
              "      <th>0</th>\n",
              "      <th>0</th>\n",
              "      <th>0</th>\n",
              "      <th>0</th>\n",
              "      <th>0</th>\n",
              "      <th>0</th>\n",
              "      <th>0</th>\n",
              "    </tr>\n",
              "  </thead>\n",
              "  <tbody>\n",
              "    <tr>\n",
              "      <th>0</th>\n",
              "      <td>5</td>\n",
              "      <td>5</td>\n",
              "      <td>5</td>\n",
              "      <td>5</td>\n",
              "      <td>5</td>\n",
              "      <td>5</td>\n",
              "      <td>5</td>\n",
              "      <td>5</td>\n",
              "      <td>5</td>\n",
              "      <td>5</td>\n",
              "      <td>5</td>\n",
              "      <td>5</td>\n",
              "    </tr>\n",
              "    <tr>\n",
              "      <th>1</th>\n",
              "      <td>0</td>\n",
              "      <td>0</td>\n",
              "      <td>0</td>\n",
              "      <td>0</td>\n",
              "      <td>0</td>\n",
              "      <td>0</td>\n",
              "      <td>0</td>\n",
              "      <td>0</td>\n",
              "      <td>0</td>\n",
              "      <td>0</td>\n",
              "      <td>0</td>\n",
              "      <td>0</td>\n",
              "    </tr>\n",
              "    <tr>\n",
              "      <th>2</th>\n",
              "      <td>4</td>\n",
              "      <td>4</td>\n",
              "      <td>4</td>\n",
              "      <td>4</td>\n",
              "      <td>4</td>\n",
              "      <td>4</td>\n",
              "      <td>4</td>\n",
              "      <td>4</td>\n",
              "      <td>4</td>\n",
              "      <td>4</td>\n",
              "      <td>4</td>\n",
              "      <td>4</td>\n",
              "    </tr>\n",
              "    <tr>\n",
              "      <th>3</th>\n",
              "      <td>8</td>\n",
              "      <td>8</td>\n",
              "      <td>8</td>\n",
              "      <td>8</td>\n",
              "      <td>8</td>\n",
              "      <td>8</td>\n",
              "      <td>8</td>\n",
              "      <td>8</td>\n",
              "      <td>8</td>\n",
              "      <td>8</td>\n",
              "      <td>8</td>\n",
              "      <td>8</td>\n",
              "    </tr>\n",
              "    <tr>\n",
              "      <th>4</th>\n",
              "      <td>2</td>\n",
              "      <td>2</td>\n",
              "      <td>2</td>\n",
              "      <td>2</td>\n",
              "      <td>2</td>\n",
              "      <td>2</td>\n",
              "      <td>2</td>\n",
              "      <td>2</td>\n",
              "      <td>2</td>\n",
              "      <td>2</td>\n",
              "      <td>2</td>\n",
              "      <td>2</td>\n",
              "    </tr>\n",
              "  </tbody>\n",
              "</table>\n",
              "</div>"
            ],
            "text/plain": [
              "   0  0  0  0  0  0  0  0  0  0  0  0\n",
              "0  5  5  5  5  5  5  5  5  5  5  5  5\n",
              "1  0  0  0  0  0  0  0  0  0  0  0  0\n",
              "2  4  4  4  4  4  4  4  4  4  4  4  4\n",
              "3  8  8  8  8  8  8  8  8  8  8  8  8\n",
              "4  2  2  2  2  2  2  2  2  2  2  2  2"
            ]
          },
          "metadata": {
            "tags": []
          },
          "execution_count": 537
        }
      ]
    },
    {
      "cell_type": "code",
      "metadata": {
        "id": "RDcgmdX6Zm-a",
        "colab_type": "code",
        "outputId": "edd4acf1-afb6-4a88-be96-1f8b5e44526f",
        "colab": {
          "base_uri": "https://localhost:8080/",
          "height": 35
        }
      },
      "source": [
        "model = RandomForestClassifier(n_estimators=500,)\n",
        "model.fit(train_df,y_train)\n",
        "pred1_a_level1=model.predict(df)\n",
        "train_pred1_a_level1=model.predict(train_df)\n",
        "model.score(df, y_test)"
      ],
      "execution_count": 0,
      "outputs": [
        {
          "output_type": "execute_result",
          "data": {
            "text/plain": [
              "0.9591269841269842"
            ]
          },
          "metadata": {
            "tags": []
          },
          "execution_count": 546
        }
      ]
    },
    {
      "cell_type": "code",
      "metadata": {
        "id": "GHbTmDwBac4y",
        "colab_type": "code",
        "outputId": "8f1edd58-2061-4e77-9672-40c9e51e0091",
        "colab": {
          "base_uri": "https://localhost:8080/",
          "height": 35
        }
      },
      "source": [
        "model = LGBMClassifier(n_estimators=100)\n",
        "model.fit(train_df,y_train)\n",
        "model.score(df, y_test)"
      ],
      "execution_count": 0,
      "outputs": [
        {
          "output_type": "execute_result",
          "data": {
            "text/plain": [
              "0.9592857142857143"
            ]
          },
          "metadata": {
            "tags": []
          },
          "execution_count": 544
        }
      ]
    },
    {
      "cell_type": "markdown",
      "metadata": {
        "id": "8GY1d6Mrf123",
        "colab_type": "text"
      },
      "source": [
        "# **On > 95**"
      ]
    },
    {
      "cell_type": "code",
      "metadata": {
        "id": "Or8Rn3lYdmu_",
        "colab_type": "code",
        "colab": {}
      },
      "source": [
        "train_df = pd.concat([train_pred1_c,train_pred1_d,train_pred2_c,train_pred2_d,train_pred3_b,train_pred3_e], axis=1)"
      ],
      "execution_count": 0,
      "outputs": []
    },
    {
      "cell_type": "code",
      "metadata": {
        "id": "pd0scuLFd02B",
        "colab_type": "code",
        "outputId": "7c5da280-6813-447d-ea59-d0d05317cedf",
        "colab": {
          "base_uri": "https://localhost:8080/",
          "height": 198
        }
      },
      "source": [
        "train_df.head()"
      ],
      "execution_count": 0,
      "outputs": [
        {
          "output_type": "execute_result",
          "data": {
            "text/html": [
              "<div>\n",
              "<style scoped>\n",
              "    .dataframe tbody tr th:only-of-type {\n",
              "        vertical-align: middle;\n",
              "    }\n",
              "\n",
              "    .dataframe tbody tr th {\n",
              "        vertical-align: top;\n",
              "    }\n",
              "\n",
              "    .dataframe thead th {\n",
              "        text-align: right;\n",
              "    }\n",
              "</style>\n",
              "<table border=\"1\" class=\"dataframe\">\n",
              "  <thead>\n",
              "    <tr style=\"text-align: right;\">\n",
              "      <th></th>\n",
              "      <th>0</th>\n",
              "      <th>0</th>\n",
              "      <th>0</th>\n",
              "      <th>0</th>\n",
              "      <th>0</th>\n",
              "      <th>0</th>\n",
              "    </tr>\n",
              "  </thead>\n",
              "  <tbody>\n",
              "    <tr>\n",
              "      <th>0</th>\n",
              "      <td>5</td>\n",
              "      <td>5</td>\n",
              "      <td>5</td>\n",
              "      <td>5</td>\n",
              "      <td>5</td>\n",
              "      <td>5</td>\n",
              "    </tr>\n",
              "    <tr>\n",
              "      <th>1</th>\n",
              "      <td>0</td>\n",
              "      <td>0</td>\n",
              "      <td>0</td>\n",
              "      <td>0</td>\n",
              "      <td>0</td>\n",
              "      <td>0</td>\n",
              "    </tr>\n",
              "    <tr>\n",
              "      <th>2</th>\n",
              "      <td>4</td>\n",
              "      <td>4</td>\n",
              "      <td>4</td>\n",
              "      <td>4</td>\n",
              "      <td>4</td>\n",
              "      <td>4</td>\n",
              "    </tr>\n",
              "    <tr>\n",
              "      <th>3</th>\n",
              "      <td>8</td>\n",
              "      <td>8</td>\n",
              "      <td>8</td>\n",
              "      <td>8</td>\n",
              "      <td>8</td>\n",
              "      <td>8</td>\n",
              "    </tr>\n",
              "    <tr>\n",
              "      <th>4</th>\n",
              "      <td>2</td>\n",
              "      <td>2</td>\n",
              "      <td>2</td>\n",
              "      <td>2</td>\n",
              "      <td>2</td>\n",
              "      <td>2</td>\n",
              "    </tr>\n",
              "  </tbody>\n",
              "</table>\n",
              "</div>"
            ],
            "text/plain": [
              "   0  0  0  0  0  0\n",
              "0  5  5  5  5  5  5\n",
              "1  0  0  0  0  0  0\n",
              "2  4  4  4  4  4  4\n",
              "3  8  8  8  8  8  8\n",
              "4  2  2  2  2  2  2"
            ]
          },
          "metadata": {
            "tags": []
          },
          "execution_count": 548
        }
      ]
    },
    {
      "cell_type": "code",
      "metadata": {
        "id": "EEebRANqd3em",
        "colab_type": "code",
        "colab": {}
      },
      "source": [
        "df = pd.concat([pred1_c,pred1_d,pred2_c,pred2_d,pred3_b,pred3_e], axis=1)"
      ],
      "execution_count": 0,
      "outputs": []
    },
    {
      "cell_type": "code",
      "metadata": {
        "id": "J3sXdbBEeL9U",
        "colab_type": "code",
        "outputId": "d1a13c26-2397-433d-b338-bf44738fe7f5",
        "colab": {
          "base_uri": "https://localhost:8080/",
          "height": 407
        }
      },
      "source": [
        "df"
      ],
      "execution_count": 0,
      "outputs": [
        {
          "output_type": "execute_result",
          "data": {
            "text/html": [
              "<div>\n",
              "<style scoped>\n",
              "    .dataframe tbody tr th:only-of-type {\n",
              "        vertical-align: middle;\n",
              "    }\n",
              "\n",
              "    .dataframe tbody tr th {\n",
              "        vertical-align: top;\n",
              "    }\n",
              "\n",
              "    .dataframe thead th {\n",
              "        text-align: right;\n",
              "    }\n",
              "</style>\n",
              "<table border=\"1\" class=\"dataframe\">\n",
              "  <thead>\n",
              "    <tr style=\"text-align: right;\">\n",
              "      <th></th>\n",
              "      <th>0</th>\n",
              "      <th>0</th>\n",
              "      <th>0</th>\n",
              "      <th>0</th>\n",
              "      <th>0</th>\n",
              "      <th>0</th>\n",
              "    </tr>\n",
              "  </thead>\n",
              "  <tbody>\n",
              "    <tr>\n",
              "      <th>0</th>\n",
              "      <td>0</td>\n",
              "      <td>0</td>\n",
              "      <td>0</td>\n",
              "      <td>0</td>\n",
              "      <td>0</td>\n",
              "      <td>0</td>\n",
              "    </tr>\n",
              "    <tr>\n",
              "      <th>1</th>\n",
              "      <td>8</td>\n",
              "      <td>8</td>\n",
              "      <td>8</td>\n",
              "      <td>8</td>\n",
              "      <td>8</td>\n",
              "      <td>8</td>\n",
              "    </tr>\n",
              "    <tr>\n",
              "      <th>2</th>\n",
              "      <td>0</td>\n",
              "      <td>0</td>\n",
              "      <td>0</td>\n",
              "      <td>0</td>\n",
              "      <td>0</td>\n",
              "      <td>0</td>\n",
              "    </tr>\n",
              "    <tr>\n",
              "      <th>3</th>\n",
              "      <td>1</td>\n",
              "      <td>1</td>\n",
              "      <td>1</td>\n",
              "      <td>1</td>\n",
              "      <td>1</td>\n",
              "      <td>1</td>\n",
              "    </tr>\n",
              "    <tr>\n",
              "      <th>4</th>\n",
              "      <td>7</td>\n",
              "      <td>7</td>\n",
              "      <td>7</td>\n",
              "      <td>7</td>\n",
              "      <td>7</td>\n",
              "      <td>7</td>\n",
              "    </tr>\n",
              "    <tr>\n",
              "      <th>...</th>\n",
              "      <td>...</td>\n",
              "      <td>...</td>\n",
              "      <td>...</td>\n",
              "      <td>...</td>\n",
              "      <td>...</td>\n",
              "      <td>...</td>\n",
              "    </tr>\n",
              "    <tr>\n",
              "      <th>12595</th>\n",
              "      <td>7</td>\n",
              "      <td>7</td>\n",
              "      <td>7</td>\n",
              "      <td>7</td>\n",
              "      <td>7</td>\n",
              "      <td>7</td>\n",
              "    </tr>\n",
              "    <tr>\n",
              "      <th>12596</th>\n",
              "      <td>1</td>\n",
              "      <td>1</td>\n",
              "      <td>1</td>\n",
              "      <td>1</td>\n",
              "      <td>1</td>\n",
              "      <td>1</td>\n",
              "    </tr>\n",
              "    <tr>\n",
              "      <th>12597</th>\n",
              "      <td>0</td>\n",
              "      <td>0</td>\n",
              "      <td>0</td>\n",
              "      <td>0</td>\n",
              "      <td>0</td>\n",
              "      <td>0</td>\n",
              "    </tr>\n",
              "    <tr>\n",
              "      <th>12598</th>\n",
              "      <td>6</td>\n",
              "      <td>6</td>\n",
              "      <td>6</td>\n",
              "      <td>6</td>\n",
              "      <td>6</td>\n",
              "      <td>6</td>\n",
              "    </tr>\n",
              "    <tr>\n",
              "      <th>12599</th>\n",
              "      <td>7</td>\n",
              "      <td>7</td>\n",
              "      <td>7</td>\n",
              "      <td>7</td>\n",
              "      <td>7</td>\n",
              "      <td>7</td>\n",
              "    </tr>\n",
              "  </tbody>\n",
              "</table>\n",
              "<p>12600 rows × 6 columns</p>\n",
              "</div>"
            ],
            "text/plain": [
              "       0  0  0  0  0  0\n",
              "0      0  0  0  0  0  0\n",
              "1      8  8  8  8  8  8\n",
              "2      0  0  0  0  0  0\n",
              "3      1  1  1  1  1  1\n",
              "4      7  7  7  7  7  7\n",
              "...   .. .. .. .. .. ..\n",
              "12595  7  7  7  7  7  7\n",
              "12596  1  1  1  1  1  1\n",
              "12597  0  0  0  0  0  0\n",
              "12598  6  6  6  6  6  6\n",
              "12599  7  7  7  7  7  7\n",
              "\n",
              "[12600 rows x 6 columns]"
            ]
          },
          "metadata": {
            "tags": []
          },
          "execution_count": 442
        }
      ]
    },
    {
      "cell_type": "code",
      "metadata": {
        "id": "ClL0d-TyeRCA",
        "colab_type": "code",
        "outputId": "f4eace0f-7ad6-4763-9958-e6aa9d5d6ef4",
        "colab": {
          "base_uri": "https://localhost:8080/",
          "height": 35
        }
      },
      "source": [
        "model = RandomForestClassifier(n_estimators=300)\n",
        "model.fit(train_df,y_train)\n",
        "pred1_b_level1=model.predict(df)\n",
        "train_pred1_b_level1=model.predict(train_df)\n",
        "model.score(df, y_test)"
      ],
      "execution_count": 0,
      "outputs": [
        {
          "output_type": "execute_result",
          "data": {
            "text/plain": [
              "0.9614285714285714"
            ]
          },
          "metadata": {
            "tags": []
          },
          "execution_count": 550
        }
      ]
    },
    {
      "cell_type": "code",
      "metadata": {
        "id": "7H7-LqZMeUe6",
        "colab_type": "code",
        "outputId": "603a6354-1733-4738-8502-0043e5c4f96c",
        "colab": {
          "base_uri": "https://localhost:8080/",
          "height": 35
        }
      },
      "source": [
        "model = SVC(kernel=\"rbf\",C=25,gamma=0.005)\n",
        "model.fit(train_df,y_train)\n",
        "model.score(df, y_test)"
      ],
      "execution_count": 0,
      "outputs": [
        {
          "output_type": "execute_result",
          "data": {
            "text/plain": [
              "0.9597619047619048"
            ]
          },
          "metadata": {
            "tags": []
          },
          "execution_count": 551
        }
      ]
    },
    {
      "cell_type": "code",
      "metadata": {
        "id": "mggbVjBOPC0d",
        "colab_type": "code",
        "outputId": "72504004-3952-48f0-805d-0dc4d511d103",
        "colab": {
          "base_uri": "https://localhost:8080/",
          "height": 35
        }
      },
      "source": [
        "model = SVC(kernel=\"poly\",C=20,gamma=0.01)\n",
        "model.fit(train_df,y_train)\n",
        "model.score(df, y_test)"
      ],
      "execution_count": 0,
      "outputs": [
        {
          "output_type": "execute_result",
          "data": {
            "text/plain": [
              "0.9592857142857143"
            ]
          },
          "metadata": {
            "tags": []
          },
          "execution_count": 552
        }
      ]
    },
    {
      "cell_type": "code",
      "metadata": {
        "id": "eAf9T__5eiG7",
        "colab_type": "code",
        "outputId": "6c3b8233-da1c-465c-8ad6-ea756fb5bbb1",
        "colab": {
          "base_uri": "https://localhost:8080/",
          "height": 35
        }
      },
      "source": [
        "model = LGBMClassifier()\n",
        "model.fit(train_df,y_train)\n",
        "pred1_c_level1=model.predict(df)\n",
        "train_pred1_c_level1=model.predict(train_df)\n",
        "model.score(df, y_test)"
      ],
      "execution_count": 0,
      "outputs": [
        {
          "output_type": "execute_result",
          "data": {
            "text/plain": [
              "0.960952380952381"
            ]
          },
          "metadata": {
            "tags": []
          },
          "execution_count": 553
        }
      ]
    },
    {
      "cell_type": "code",
      "metadata": {
        "id": "264O28utfRtY",
        "colab_type": "code",
        "outputId": "7678dd33-f84b-4ad9-b3d6-a1d826f65ad0",
        "colab": {
          "base_uri": "https://localhost:8080/",
          "height": 35
        }
      },
      "source": [
        "\n",
        "model = KNeighborsClassifier(n_neighbors=8,weights='distance')\n",
        "model.fit(train_df,y_train)\n",
        "model.score(df, y_test)"
      ],
      "execution_count": 0,
      "outputs": [
        {
          "output_type": "execute_result",
          "data": {
            "text/plain": [
              "0.955"
            ]
          },
          "metadata": {
            "tags": []
          },
          "execution_count": 554
        }
      ]
    },
    {
      "cell_type": "code",
      "metadata": {
        "id": "qhq9zRHOXbEa",
        "colab_type": "code",
        "colab": {}
      },
      "source": [
        ""
      ],
      "execution_count": 0,
      "outputs": []
    },
    {
      "cell_type": "markdown",
      "metadata": {
        "id": "Iwqnoaz8f9l0",
        "colab_type": "text"
      },
      "source": [
        "# **on > 95.5**"
      ]
    },
    {
      "cell_type": "code",
      "metadata": {
        "id": "vgvwSgMlgGiv",
        "colab_type": "code",
        "colab": {}
      },
      "source": [
        "train_df = pd.concat([train_pred1_a,train_pred1_b,train_pred1_c,train_pred1_d,train_pred2_a,train_pred2_b,train_pred2_c,train_pred2_d,train_pred3_b,train_pred3_c,train_pred3_d,train_pred3_e], axis=1)"
      ],
      "execution_count": 0,
      "outputs": []
    },
    {
      "cell_type": "code",
      "metadata": {
        "id": "FFqev6emga2z",
        "colab_type": "code",
        "outputId": "c1dc15b5-e675-4b56-ba44-67556e28c5a7",
        "colab": {
          "base_uri": "https://localhost:8080/",
          "height": 407
        }
      },
      "source": [
        "train_df"
      ],
      "execution_count": 0,
      "outputs": [
        {
          "output_type": "execute_result",
          "data": {
            "text/html": [
              "<div>\n",
              "<style scoped>\n",
              "    .dataframe tbody tr th:only-of-type {\n",
              "        vertical-align: middle;\n",
              "    }\n",
              "\n",
              "    .dataframe tbody tr th {\n",
              "        vertical-align: top;\n",
              "    }\n",
              "\n",
              "    .dataframe thead th {\n",
              "        text-align: right;\n",
              "    }\n",
              "</style>\n",
              "<table border=\"1\" class=\"dataframe\">\n",
              "  <thead>\n",
              "    <tr style=\"text-align: right;\">\n",
              "      <th></th>\n",
              "      <th>0</th>\n",
              "      <th>0</th>\n",
              "      <th>0</th>\n",
              "      <th>0</th>\n",
              "      <th>0</th>\n",
              "      <th>0</th>\n",
              "      <th>0</th>\n",
              "      <th>0</th>\n",
              "      <th>0</th>\n",
              "      <th>0</th>\n",
              "      <th>0</th>\n",
              "      <th>0</th>\n",
              "    </tr>\n",
              "  </thead>\n",
              "  <tbody>\n",
              "    <tr>\n",
              "      <th>0</th>\n",
              "      <td>5</td>\n",
              "      <td>5</td>\n",
              "      <td>5</td>\n",
              "      <td>5</td>\n",
              "      <td>5</td>\n",
              "      <td>5</td>\n",
              "      <td>5</td>\n",
              "      <td>5</td>\n",
              "      <td>5</td>\n",
              "      <td>5</td>\n",
              "      <td>5</td>\n",
              "      <td>5</td>\n",
              "    </tr>\n",
              "    <tr>\n",
              "      <th>1</th>\n",
              "      <td>0</td>\n",
              "      <td>0</td>\n",
              "      <td>0</td>\n",
              "      <td>0</td>\n",
              "      <td>0</td>\n",
              "      <td>0</td>\n",
              "      <td>0</td>\n",
              "      <td>0</td>\n",
              "      <td>0</td>\n",
              "      <td>0</td>\n",
              "      <td>0</td>\n",
              "      <td>0</td>\n",
              "    </tr>\n",
              "    <tr>\n",
              "      <th>2</th>\n",
              "      <td>4</td>\n",
              "      <td>4</td>\n",
              "      <td>4</td>\n",
              "      <td>4</td>\n",
              "      <td>4</td>\n",
              "      <td>4</td>\n",
              "      <td>4</td>\n",
              "      <td>4</td>\n",
              "      <td>4</td>\n",
              "      <td>4</td>\n",
              "      <td>4</td>\n",
              "      <td>4</td>\n",
              "    </tr>\n",
              "    <tr>\n",
              "      <th>3</th>\n",
              "      <td>8</td>\n",
              "      <td>8</td>\n",
              "      <td>8</td>\n",
              "      <td>8</td>\n",
              "      <td>8</td>\n",
              "      <td>8</td>\n",
              "      <td>8</td>\n",
              "      <td>8</td>\n",
              "      <td>8</td>\n",
              "      <td>8</td>\n",
              "      <td>8</td>\n",
              "      <td>8</td>\n",
              "    </tr>\n",
              "    <tr>\n",
              "      <th>4</th>\n",
              "      <td>2</td>\n",
              "      <td>2</td>\n",
              "      <td>2</td>\n",
              "      <td>2</td>\n",
              "      <td>2</td>\n",
              "      <td>2</td>\n",
              "      <td>2</td>\n",
              "      <td>2</td>\n",
              "      <td>2</td>\n",
              "      <td>2</td>\n",
              "      <td>2</td>\n",
              "      <td>2</td>\n",
              "    </tr>\n",
              "    <tr>\n",
              "      <th>...</th>\n",
              "      <td>...</td>\n",
              "      <td>...</td>\n",
              "      <td>...</td>\n",
              "      <td>...</td>\n",
              "      <td>...</td>\n",
              "      <td>...</td>\n",
              "      <td>...</td>\n",
              "      <td>...</td>\n",
              "      <td>...</td>\n",
              "      <td>...</td>\n",
              "      <td>...</td>\n",
              "      <td>...</td>\n",
              "    </tr>\n",
              "    <tr>\n",
              "      <th>8394</th>\n",
              "      <td>3</td>\n",
              "      <td>3</td>\n",
              "      <td>3</td>\n",
              "      <td>3</td>\n",
              "      <td>3</td>\n",
              "      <td>3</td>\n",
              "      <td>3</td>\n",
              "      <td>3</td>\n",
              "      <td>3</td>\n",
              "      <td>3</td>\n",
              "      <td>3</td>\n",
              "      <td>3</td>\n",
              "    </tr>\n",
              "    <tr>\n",
              "      <th>8395</th>\n",
              "      <td>3</td>\n",
              "      <td>3</td>\n",
              "      <td>3</td>\n",
              "      <td>3</td>\n",
              "      <td>3</td>\n",
              "      <td>3</td>\n",
              "      <td>3</td>\n",
              "      <td>3</td>\n",
              "      <td>3</td>\n",
              "      <td>3</td>\n",
              "      <td>3</td>\n",
              "      <td>3</td>\n",
              "    </tr>\n",
              "    <tr>\n",
              "      <th>8396</th>\n",
              "      <td>5</td>\n",
              "      <td>3</td>\n",
              "      <td>5</td>\n",
              "      <td>5</td>\n",
              "      <td>5</td>\n",
              "      <td>3</td>\n",
              "      <td>5</td>\n",
              "      <td>5</td>\n",
              "      <td>5</td>\n",
              "      <td>5</td>\n",
              "      <td>5</td>\n",
              "      <td>5</td>\n",
              "    </tr>\n",
              "    <tr>\n",
              "      <th>8397</th>\n",
              "      <td>2</td>\n",
              "      <td>2</td>\n",
              "      <td>2</td>\n",
              "      <td>2</td>\n",
              "      <td>2</td>\n",
              "      <td>2</td>\n",
              "      <td>2</td>\n",
              "      <td>2</td>\n",
              "      <td>2</td>\n",
              "      <td>2</td>\n",
              "      <td>2</td>\n",
              "      <td>2</td>\n",
              "    </tr>\n",
              "    <tr>\n",
              "      <th>8398</th>\n",
              "      <td>2</td>\n",
              "      <td>2</td>\n",
              "      <td>2</td>\n",
              "      <td>2</td>\n",
              "      <td>2</td>\n",
              "      <td>2</td>\n",
              "      <td>2</td>\n",
              "      <td>2</td>\n",
              "      <td>2</td>\n",
              "      <td>2</td>\n",
              "      <td>2</td>\n",
              "      <td>2</td>\n",
              "    </tr>\n",
              "  </tbody>\n",
              "</table>\n",
              "<p>8399 rows × 12 columns</p>\n",
              "</div>"
            ],
            "text/plain": [
              "      0  0  0  0  0  0  0  0  0  0  0  0\n",
              "0     5  5  5  5  5  5  5  5  5  5  5  5\n",
              "1     0  0  0  0  0  0  0  0  0  0  0  0\n",
              "2     4  4  4  4  4  4  4  4  4  4  4  4\n",
              "3     8  8  8  8  8  8  8  8  8  8  8  8\n",
              "4     2  2  2  2  2  2  2  2  2  2  2  2\n",
              "...  .. .. .. .. .. .. .. .. .. .. .. ..\n",
              "8394  3  3  3  3  3  3  3  3  3  3  3  3\n",
              "8395  3  3  3  3  3  3  3  3  3  3  3  3\n",
              "8396  5  3  5  5  5  3  5  5  5  5  5  5\n",
              "8397  2  2  2  2  2  2  2  2  2  2  2  2\n",
              "8398  2  2  2  2  2  2  2  2  2  2  2  2\n",
              "\n",
              "[8399 rows x 12 columns]"
            ]
          },
          "metadata": {
            "tags": []
          },
          "execution_count": 556
        }
      ]
    },
    {
      "cell_type": "code",
      "metadata": {
        "id": "XtSsSlw7gd1T",
        "colab_type": "code",
        "colab": {}
      },
      "source": [
        "df = pd.concat([pred1_a,pred1_b,pred1_c,pred1_d,pred2_a,pred2_b,pred2_c,pred2_d,pred3_b,pred3_c,pred3_d,pred3_e], axis=1)"
      ],
      "execution_count": 0,
      "outputs": []
    },
    {
      "cell_type": "code",
      "metadata": {
        "id": "FaGDP3uWgyCs",
        "colab_type": "code",
        "outputId": "aeea4c48-7357-4343-b1cd-0dbd6369fdda",
        "colab": {
          "base_uri": "https://localhost:8080/",
          "height": 35
        }
      },
      "source": [
        "model = RandomForestClassifier(n_estimators=100,)\n",
        "model.fit(train_df,y_train)\n",
        "pred1_d_level1=model.predict(df)\n",
        "train_pred1_d_level1=model.predict(train_df)\n",
        "model.score(df, y_test)"
      ],
      "execution_count": 0,
      "outputs": [
        {
          "output_type": "execute_result",
          "data": {
            "text/plain": [
              "0.963015873015873"
            ]
          },
          "metadata": {
            "tags": []
          },
          "execution_count": 558
        }
      ]
    },
    {
      "cell_type": "code",
      "metadata": {
        "id": "RXnl9Qj2hR64",
        "colab_type": "code",
        "outputId": "ed673fbb-f998-4998-b084-b4b4f9f15b12",
        "colab": {
          "base_uri": "https://localhost:8080/",
          "height": 35
        }
      },
      "source": [
        "model = LGBMClassifier( random_state=5,n_estimators=500)\n",
        "model.fit(train_df,y_train)\n",
        "model.score(df, y_test)"
      ],
      "execution_count": 0,
      "outputs": [
        {
          "output_type": "execute_result",
          "data": {
            "text/plain": [
              "0.9592857142857143"
            ]
          },
          "metadata": {
            "tags": []
          },
          "execution_count": 559
        }
      ]
    },
    {
      "cell_type": "code",
      "metadata": {
        "id": "01wb-OxUR7_a",
        "colab_type": "code",
        "outputId": "02ffa5ac-94fb-4567-eec5-fee64765b2b4",
        "colab": {
          "base_uri": "https://localhost:8080/",
          "height": 201
        }
      },
      "source": [
        "model = LogisticRegression()\n",
        "model.fit(train_df,y_train)\n",
        "p3=model.predict(df)\n",
        "model.score(df, y_test)"
      ],
      "execution_count": 0,
      "outputs": [
        {
          "output_type": "stream",
          "text": [
            "/usr/local/lib/python3.6/dist-packages/sklearn/linear_model/_logistic.py:940: ConvergenceWarning: lbfgs failed to converge (status=1):\n",
            "STOP: TOTAL NO. of ITERATIONS REACHED LIMIT.\n",
            "\n",
            "Increase the number of iterations (max_iter) or scale the data as shown in:\n",
            "    https://scikit-learn.org/stable/modules/preprocessing.html\n",
            "Please also refer to the documentation for alternative solver options:\n",
            "    https://scikit-learn.org/stable/modules/linear_model.html#logistic-regression\n",
            "  extra_warning_msg=_LOGISTIC_SOLVER_CONVERGENCE_MSG)\n"
          ],
          "name": "stderr"
        },
        {
          "output_type": "execute_result",
          "data": {
            "text/plain": [
              "0.9263492063492064"
            ]
          },
          "metadata": {
            "tags": []
          },
          "execution_count": 561
        }
      ]
    },
    {
      "cell_type": "markdown",
      "metadata": {
        "id": "_IFFgfpOuZCL",
        "colab_type": "text"
      },
      "source": [
        "# **Level 2 Stacking(97.5% highest)**"
      ]
    },
    {
      "cell_type": "code",
      "metadata": {
        "id": "ZF3G7nTGu4zK",
        "colab_type": "code",
        "colab": {}
      },
      "source": [
        "train_pred1_a_level1=pd.DataFrame(train_pred1_a_level1)\n",
        "train_pred1_b_level1=pd.DataFrame(train_pred1_b_level1)\n",
        "train_pred1_c_level1=pd.DataFrame(train_pred1_c_level1)\n",
        "train_pred1_d_level1=pd.DataFrame(train_pred1_d_level1)"
      ],
      "execution_count": 0,
      "outputs": []
    },
    {
      "cell_type": "code",
      "metadata": {
        "id": "e8wdZtr8vTfx",
        "colab_type": "code",
        "colab": {}
      },
      "source": [
        "pred1_a_level1=pd.DataFrame(pred1_a_level1)\n",
        "pred1_b_level1=pd.DataFrame(pred1_b_level1)\n",
        "pred1_c_level1=pd.DataFrame(pred1_c_level1)\n",
        "pred1_d_level1=pd.DataFrame(pred1_d_level1)"
      ],
      "execution_count": 0,
      "outputs": []
    },
    {
      "cell_type": "code",
      "metadata": {
        "id": "qsq-sC3Cuc8c",
        "colab_type": "code",
        "colab": {}
      },
      "source": [
        "train_df = pd.concat([train_pred1_a_level1,train_pred1_b_level1,train_pred1_c_level1,train_pred1_d_level1], axis=1)"
      ],
      "execution_count": 0,
      "outputs": []
    },
    {
      "cell_type": "code",
      "metadata": {
        "id": "BbafvQZ1vPCh",
        "colab_type": "code",
        "colab": {}
      },
      "source": [
        "df = pd.concat([pred1_a_level1,pred1_b_level1,pred1_c_level1,pred1_d_level1], axis=1)"
      ],
      "execution_count": 0,
      "outputs": []
    },
    {
      "cell_type": "code",
      "metadata": {
        "id": "f9Zmk27rvpMl",
        "colab_type": "code",
        "outputId": "5e430c8b-6f10-43a9-e0bb-0591fd04c3ec",
        "colab": {
          "base_uri": "https://localhost:8080/",
          "height": 35
        }
      },
      "source": [
        "model =LGBMClassifier( random_state=5,n_estimators=100)\n",
        "model.fit(train_df,y_train)\n",
        "p1=model.predict(df)\n",
        "model.score(df, y_test)"
      ],
      "execution_count": 0,
      "outputs": [
        {
          "output_type": "execute_result",
          "data": {
            "text/plain": [
              "0.9755555555555555"
            ]
          },
          "metadata": {
            "tags": []
          },
          "execution_count": 344
        }
      ]
    },
    {
      "cell_type": "code",
      "metadata": {
        "id": "64z8ZLQmzQk0",
        "colab_type": "code",
        "outputId": "e59cbb06-6fb4-43d2-9ed9-fbb0165743de",
        "colab": {
          "base_uri": "https://localhost:8080/",
          "height": 35
        }
      },
      "source": [
        "model = RandomForestClassifier(n_estimators=500,)\n",
        "model.fit(train_df,y_train)\n",
        "p2=model.predict(df)\n",
        "model.score(df, y_test)"
      ],
      "execution_count": 0,
      "outputs": [
        {
          "output_type": "execute_result",
          "data": {
            "text/plain": [
              "0.975"
            ]
          },
          "metadata": {
            "tags": []
          },
          "execution_count": 360
        }
      ]
    },
    {
      "cell_type": "code",
      "metadata": {
        "id": "qoxEhiY7znIY",
        "colab_type": "code",
        "outputId": "cfbae309-d08f-4fb6-aa7d-feb0330711ca",
        "colab": {
          "base_uri": "https://localhost:8080/",
          "height": 35
        }
      },
      "source": [
        "model = SVC(kernel=\"rbf\",C=10, gamma=0.05)\n",
        "model.fit(train_df,y_train)\n",
        "p3=model.predict(df)\n",
        "model.score(df, y_test)"
      ],
      "execution_count": 0,
      "outputs": [
        {
          "output_type": "execute_result",
          "data": {
            "text/plain": [
              "0.9675396825396826"
            ]
          },
          "metadata": {
            "tags": []
          },
          "execution_count": 364
        }
      ]
    },
    {
      "cell_type": "code",
      "metadata": {
        "id": "mQbIhbc73-UA",
        "colab_type": "code",
        "outputId": "029f936b-b513-4912-fe37-f6f35c407183",
        "colab": {
          "base_uri": "https://localhost:8080/",
          "height": 201
        }
      },
      "source": [
        "model = LogisticRegression()\n",
        "model.fit(train_df,y_train)\n",
        "p4=model.predict(df)\n",
        "model.score(df, y_test)"
      ],
      "execution_count": 0,
      "outputs": [
        {
          "output_type": "stream",
          "text": [
            "/usr/local/lib/python3.6/dist-packages/sklearn/linear_model/_logistic.py:940: ConvergenceWarning: lbfgs failed to converge (status=1):\n",
            "STOP: TOTAL NO. of ITERATIONS REACHED LIMIT.\n",
            "\n",
            "Increase the number of iterations (max_iter) or scale the data as shown in:\n",
            "    https://scikit-learn.org/stable/modules/preprocessing.html\n",
            "Please also refer to the documentation for alternative solver options:\n",
            "    https://scikit-learn.org/stable/modules/linear_model.html#logistic-regression\n",
            "  extra_warning_msg=_LOGISTIC_SOLVER_CONVERGENCE_MSG)\n"
          ],
          "name": "stderr"
        },
        {
          "output_type": "execute_result",
          "data": {
            "text/plain": [
              "0.9681746031746031"
            ]
          },
          "metadata": {
            "tags": []
          },
          "execution_count": 362
        }
      ]
    },
    {
      "cell_type": "code",
      "metadata": {
        "id": "HEy3bDvv0U3L",
        "colab_type": "code",
        "outputId": "0ad6e8ae-6e06-40c4-9656-c58f44066ee2",
        "colab": {
          "base_uri": "https://localhost:8080/",
          "height": 235
        }
      },
      "source": [
        "from statistics import mode\n",
        "final_pred = np.array([])\n",
        "for i in range(0,len(X_test)):\n",
        "  try:\n",
        "    final_pred = np.append(final_pred, mode([p1[i], p2[i],p3[i],p4[i]]))\n",
        "  except:\n",
        "    final_pred = np.append(final_pred,p1[i])\n",
        "\n",
        "# accuracy\n",
        "print(\"accuracy:\", metrics.accuracy_score(y_true=y_test, y_pred=final_pred), \"\\n\")\n",
        "\n",
        "# cm\n",
        "print(metrics.confusion_matrix(y_true=y_test, y_pred=final_pred))"
      ],
      "execution_count": 0,
      "outputs": [
        {
          "output_type": "stream",
          "text": [
            "accuracy: 0.9746825396825397 \n",
            "\n",
            "[[1204    0    0    0    2    1    7    0    6    1]\n",
            " [   0 1357    2    1    4    3    0    3    2    0]\n",
            " [   2    3 1227    1    5    2    1    2    5    0]\n",
            " [   0    2   14 1287    0   15    0    5    5    2]\n",
            " [   1    3    1    3 1185    1    7    2    3   17]\n",
            " [   1    2    1   13    0 1115    5    2    1    2]\n",
            " [   1    0    2    1    1    8 1215    0    2    0]\n",
            " [   2   10   11    4    6    1    0 1322    2   16]\n",
            " [   0    7    3    7    1    8    3    3 1189    4]\n",
            " [   3    0    1   12   19    3    0   11    6 1180]]\n"
          ],
          "name": "stdout"
        }
      ]
    }
  ]
}