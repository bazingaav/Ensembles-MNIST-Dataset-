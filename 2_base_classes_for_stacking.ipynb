{
  "nbformat": 4,
  "nbformat_minor": 0,
  "metadata": {
    "colab": {
      "name": "3-base-classes-for-stacking.ipynb",
      "provenance": [],
      "collapsed_sections": [
        "FHcDzVCI-wjl"
      ],
      "toc_visible": true
    },
    "kernelspec": {
      "name": "python3",
      "display_name": "Python 3"
    }
  },
  "cells": [
    {
      "cell_type": "markdown",
      "metadata": {
        "id": "p5mkc1sNV9SM",
        "colab_type": "text"
      },
      "source": [
        "# **Pre-Processing**"
      ]
    },
    {
      "cell_type": "code",
      "metadata": {
        "id": "PkI5oH2ApxOj",
        "colab_type": "code",
        "colab": {}
      },
      "source": [
        "import numpy as np\n",
        "import pandas as pd\n",
        "from sklearn.model_selection import train_test_split\n",
        "from sklearn.svm import SVC\n",
        "from sklearn.metrics import confusion_matrix\n",
        "from sklearn.model_selection import validation_curve\n",
        "from sklearn.model_selection import KFold\n",
        "from sklearn.model_selection import cross_val_score\n",
        "from sklearn.model_selection import GridSearchCV\n",
        "from sklearn import metrics\n",
        "from sklearn.metrics import confusion_matrix\n",
        "from sklearn.linear_model import LogisticRegression\n",
        "from sklearn.neighbors import KNeighborsClassifier\n",
        "from sklearn.ensemble import BaggingClassifier\n",
        "from sklearn.ensemble import RandomForestClassifier\n",
        "import matplotlib.pyplot as plt\n",
        "import seaborn as sns\n",
        "import array\n",
        "from sklearn.naive_bayes import MultinomialNB\n",
        "import xgboost as xgb"
      ],
      "execution_count": 0,
      "outputs": []
    },
    {
      "cell_type": "code",
      "metadata": {
        "id": "WFQE58IIV-du",
        "colab_type": "code",
        "colab": {}
      },
      "source": [
        "train_data = pd.read_csv(\"train.csv\")[:-2] #reading the csv files using pandas\n",
        "test_data = pd.read_csv(\"test.csv\")[:-2]"
      ],
      "execution_count": 0,
      "outputs": []
    },
    {
      "cell_type": "code",
      "metadata": {
        "id": "-t6vz5SQWKwx",
        "colab_type": "code",
        "outputId": "67ec1edc-c019-40c2-83e1-3f19999b7524",
        "colab": {
          "base_uri": "https://localhost:8080/",
          "height": 521
        }
      },
      "source": [
        "## Separating the X and Y variable\n",
        "\n",
        "y = train_data['label']\n",
        "\n",
        "## Dropping the variable 'label' from X variable \n",
        "X = train_data.drop(columns = 'label')\n",
        "\n",
        "## Printing the size of data \n",
        "print(train_data.shape)\n",
        "print(X)\n",
        "print(y)"
      ],
      "execution_count": 0,
      "outputs": [
        {
          "output_type": "stream",
          "text": [
            "(41998, 785)\n",
            "       pixel0  pixel1  pixel2  pixel3  ...  pixel780  pixel781  pixel782  pixel783\n",
            "0           0       0       0       0  ...         0         0         0         0\n",
            "1           0       0       0       0  ...         0         0         0         0\n",
            "2           0       0       0       0  ...         0         0         0         0\n",
            "3           0       0       0       0  ...         0         0         0         0\n",
            "4           0       0       0       0  ...         0         0         0         0\n",
            "...       ...     ...     ...     ...  ...       ...       ...       ...       ...\n",
            "41993       0       0       0       0  ...         0         0         0         0\n",
            "41994       0       0       0       0  ...         0         0         0         0\n",
            "41995       0       0       0       0  ...         0         0         0         0\n",
            "41996       0       0       0       0  ...         0         0         0         0\n",
            "41997       0       0       0       0  ...         0         0         0         0\n",
            "\n",
            "[41998 rows x 784 columns]\n",
            "0        1\n",
            "1        0\n",
            "2        1\n",
            "3        4\n",
            "4        0\n",
            "        ..\n",
            "41993    6\n",
            "41994    4\n",
            "41995    0\n",
            "41996    1\n",
            "41997    7\n",
            "Name: label, Length: 41998, dtype: int64\n"
          ],
          "name": "stdout"
        }
      ]
    },
    {
      "cell_type": "code",
      "metadata": {
        "id": "2KkxJ3C0WNAq",
        "colab_type": "code",
        "outputId": "98c830fb-8a1c-46d7-9e8f-e9ed509ae9fe",
        "colab": {
          "base_uri": "https://localhost:8080/",
          "height": 55
        }
      },
      "source": [
        "## Normalization\n",
        "\n",
        "X = X/255.0\n",
        "test_data = test_data/255.0\n",
        "\n",
        "print(\"X:\", X.shape)\n",
        "print(\"test_data:\", test_data.shape)"
      ],
      "execution_count": 0,
      "outputs": [
        {
          "output_type": "stream",
          "text": [
            "X: (41998, 784)\n",
            "test_data: (27998, 784)\n"
          ],
          "name": "stdout"
        }
      ]
    },
    {
      "cell_type": "code",
      "metadata": {
        "id": "PmqA_6pRWPdB",
        "colab_type": "code",
        "colab": {}
      },
      "source": [
        "# scaling the features\n",
        "from sklearn.preprocessing import scale\n",
        "X_scaled = scale(X)"
      ],
      "execution_count": 0,
      "outputs": []
    },
    {
      "cell_type": "markdown",
      "metadata": {
        "id": "FHcDzVCI-wjl",
        "colab_type": "text"
      },
      "source": [
        "# **LOGISTIC REGRESSION**"
      ]
    },
    {
      "cell_type": "code",
      "metadata": {
        "id": "DSP4qVIOYS0X",
        "colab_type": "code",
        "colab": {}
      },
      "source": [
        "# train test split\n",
        "X_train_lr1, X_test_lr1, y_train_lr1, y_test_lr1 = train_test_split(X, y, test_size = 0.8, train_size = 0.2 ,random_state = 10)"
      ],
      "execution_count": 0,
      "outputs": []
    },
    {
      "cell_type": "markdown",
      "metadata": {
        "id": "RDHUW3NvYNom",
        "colab_type": "text"
      },
      "source": [
        "## **Logistic Regression - Use this (A = 89.39%)**"
      ]
    },
    {
      "cell_type": "code",
      "metadata": {
        "id": "PUpF5C_-YfEM",
        "colab_type": "code",
        "colab": {}
      },
      "source": [
        "clf_lr1 = LogisticRegression(random_state=0,max_iter=1000).fit(X_train_lr1,y_train_lr1)"
      ],
      "execution_count": 0,
      "outputs": []
    },
    {
      "cell_type": "code",
      "metadata": {
        "id": "HxKZXXkqYnyA",
        "colab_type": "code",
        "colab": {}
      },
      "source": [
        "y_pred_lr1 = clf_lr1.predict(X_test_lr1)"
      ],
      "execution_count": 0,
      "outputs": []
    },
    {
      "cell_type": "code",
      "metadata": {
        "id": "VbzAQf-aY6vI",
        "colab_type": "code",
        "outputId": "2095cdff-90ff-47ba-d879-760d28819acf",
        "colab": {
          "base_uri": "https://localhost:8080/",
          "height": 55
        }
      },
      "source": [
        "# accuracy\n",
        "print(\"accuracy:\", metrics.accuracy_score(y_true=y_test_lr1, y_pred=y_pred_lr1), \"\\n\")\n"
      ],
      "execution_count": 0,
      "outputs": [
        {
          "output_type": "stream",
          "text": [
            "accuracy: 0.8939671980731735 \n",
            "\n"
          ],
          "name": "stdout"
        }
      ]
    },
    {
      "cell_type": "markdown",
      "metadata": {
        "id": "aGqeFlpkdM-w",
        "colab_type": "text"
      },
      "source": [
        "## **Logisitc R - 2 (Bagging) - Don't use this. No change in performance but training time is increased**"
      ]
    },
    {
      "cell_type": "code",
      "metadata": {
        "id": "PhNf8elOZEBb",
        "colab_type": "code",
        "colab": {}
      },
      "source": [
        "# train test split\n",
        "X_train_lr2, X_test_lr2, y_train_lr2, y_test_lr2 = train_test_split(X, y, test_size = 0.8, train_size = 0.2 ,random_state = 10)"
      ],
      "execution_count": 0,
      "outputs": []
    },
    {
      "cell_type": "code",
      "metadata": {
        "id": "igbwyv_PdvgY",
        "colab_type": "code",
        "colab": {}
      },
      "source": [
        "clf_lr2=BaggingClassifier(base_estimator=LogisticRegression(max_iter=500),n_estimators=50).fit(X_train_lr2,y_train_lr2)"
      ],
      "execution_count": 0,
      "outputs": []
    },
    {
      "cell_type": "code",
      "metadata": {
        "id": "B144D81-ePK1",
        "colab_type": "code",
        "colab": {}
      },
      "source": [
        "y_pred_lr2 = clf_lr1.predict(X_test_lr2)"
      ],
      "execution_count": 0,
      "outputs": []
    },
    {
      "cell_type": "code",
      "metadata": {
        "id": "nz_8k6YjdV-9",
        "colab_type": "code",
        "outputId": "16eaf3f8-5a46-4cae-d96d-8a63aac0f041",
        "colab": {
          "base_uri": "https://localhost:8080/",
          "height": 55
        }
      },
      "source": [
        "# accuracy\n",
        "print(\"accuracy:\", metrics.accuracy_score(y_true=y_test_lr2, y_pred=y_pred_lr2), \"\\n\")\n"
      ],
      "execution_count": 0,
      "outputs": [
        {
          "output_type": "stream",
          "text": [
            "accuracy: 0.8939671980731735 \n",
            "\n"
          ],
          "name": "stdout"
        }
      ]
    },
    {
      "cell_type": "markdown",
      "metadata": {
        "id": "IObbpNzinRmo",
        "colab_type": "text"
      },
      "source": [
        "# **RANDOM FOREST**"
      ]
    },
    {
      "cell_type": "code",
      "metadata": {
        "id": "jWSKEPPKpM7l",
        "colab_type": "code",
        "colab": {}
      },
      "source": [
        "# train test split\n",
        "X_train_dt1, X_test_dt1, y_train_dt1, y_test_dt1 = train_test_split(X, y, test_size = 0.8, train_size = 0.2 ,random_state = 10)"
      ],
      "execution_count": 0,
      "outputs": []
    },
    {
      "cell_type": "markdown",
      "metadata": {
        "id": "Etqo2MtOsSYS",
        "colab_type": "text"
      },
      "source": [
        "**Max Depth**"
      ]
    },
    {
      "cell_type": "code",
      "metadata": {
        "id": "ibUwSV6onaQ8",
        "colab_type": "code",
        "outputId": "b776633f-dc27-42b7-878b-ca8af1cfb26c",
        "colab": {
          "base_uri": "https://localhost:8080/",
          "height": 577
        }
      },
      "source": [
        "train_dt1 = np.tile(0., 30)\n",
        "test_dt1 = np.tile(0., 30)\n",
        "print(\"depth | Training score    | Testing score\")\n",
        "for i in range (1,30):\n",
        "    print(i,end=\"   |   \")\n",
        "    clf_dt1 = RandomForestClassifier(max_depth=i,n_estimators=1000)\n",
        "    clf_dt1.fit(X_train_dt1, y_train_dt1)\n",
        "    score1 = clf_dt1.score(X_train_dt1,y_train_dt1)\n",
        "    train_dt1[i] = score1.mean()\n",
        "    print(round(train_dt1[i],5), end = \"         |  \")\n",
        "    #clf_dt1.fit(X_test_dt1, y_test_dt1)\n",
        "    score2 = clf_dt1.score(X_test_dt1,y_test_dt1)\n",
        "    test_dt1[i] = score2.mean()\n",
        "    print(round(test_dt1[i],5))\n",
        "\n",
        "\n"
      ],
      "execution_count": 0,
      "outputs": [
        {
          "output_type": "stream",
          "text": [
            "depth | Training score    | Testing score\n",
            "1   |   0.52948         |  0.51824\n",
            "2   |   0.66506         |  0.65334\n",
            "3   |   0.76279         |  0.74441\n",
            "4   |   0.82519         |  0.81024\n",
            "5   |   0.88231         |  0.85451\n",
            "6   |   0.92407         |  0.88502\n",
            "7   |   0.95412         |  0.90314\n",
            "8   |   0.97798         |  0.91731\n",
            "9   |   0.99197         |  0.92574\n",
            "10   |   0.99702         |  0.93153\n",
            "11   |   0.99862         |  0.93526\n",
            "12   |   0.99954         |  0.9364\n",
            "13   |   0.99954         |  0.93801\n",
            "14   |   0.99954         |  0.93801\n",
            "15   |   1.0         |  0.93864\n",
            "16   |   1.0         |  0.9387\n",
            "17   |   1.0         |  0.93881\n",
            "18   |   1.0         |  0.93853\n",
            "19   |   1.0         |  0.9383\n",
            "20   |   1.0         |  0.93944\n",
            "21   |   1.0         |  0.93933\n",
            "22   |   1.0         |  0.93881\n",
            "23   |   1.0         |  0.93939\n",
            "24   |   1.0         |  0.93996\n",
            "25   |   1.0         |  0.94059\n",
            "26   |   1.0         |  0.93875\n",
            "27   |   1.0         |  0.93921\n",
            "28   |   1.0         |  0.9391\n",
            "29   |   1.0         |  0.93927\n"
          ],
          "name": "stdout"
        }
      ]
    },
    {
      "cell_type": "code",
      "metadata": {
        "id": "N_XStu5Vqct3",
        "colab_type": "code",
        "colab": {}
      },
      "source": [
        "train_dt1=train_dt1[train_dt1!=0.]\n",
        "test_dt1=test_dt1[test_dt1!=0.]\n",
        "xaxis = array.array('i',(i for i in range(1,30)))"
      ],
      "execution_count": 0,
      "outputs": []
    },
    {
      "cell_type": "code",
      "metadata": {
        "id": "b7AbhsfpqDKz",
        "colab_type": "code",
        "outputId": "3ada02e7-bc8f-4044-bc49-adb7ca9058aa",
        "colab": {
          "base_uri": "https://localhost:8080/",
          "height": 295
        }
      },
      "source": [
        "fig1, a = plt.subplots()\n",
        "plt.plot(xaxis, train_dt1,'go-', Label='Training Score')\n",
        "plt.plot(xaxis, test_dt1,'cs-', Label = 'Testing Score')\n",
        "plt.xlabel('Depth of tree')\n",
        "plt.ylabel('Accuracy Score')\n",
        "plt.title('Base Classifier')\n",
        "legend = a.legend(loc='lower right')"
      ],
      "execution_count": 0,
      "outputs": [
        {
          "output_type": "display_data",
          "data": {
            "image/png": "[encoded data removed]",
            "text/plain": [
              "<Figure size 432x288 with 1 Axes>"
            ]
          },
          "metadata": {
            "tags": []
          }
        }
      ]
    },
    {
      "cell_type": "markdown",
      "metadata": {
        "id": "aylqeJPbsQl3",
        "colab_type": "text"
      },
      "source": [
        "**min_samples_split**"
      ]
    },
    {
      "cell_type": "code",
      "metadata": {
        "id": "LDQCY7-othn0",
        "colab_type": "code",
        "colab": {}
      },
      "source": [
        "min_samples_splits = np.linspace(0.1, 1, 10, endpoint=True)"
      ],
      "execution_count": 0,
      "outputs": []
    },
    {
      "cell_type": "code",
      "metadata": {
        "id": "JC_QsnTTuGeB",
        "colab_type": "code",
        "outputId": "dccd762b-5d97-48ad-95ae-33d39d08d63d",
        "colab": {
          "base_uri": "https://localhost:8080/",
          "height": 223
        }
      },
      "source": [
        "train_dt1_mss = np.tile(0., 100)\n",
        "test_dt1_mss = np.tile(0., 100)\n",
        "print(\"m_val | Training score    | Testing score\")\n",
        "i=0\n",
        "for min_samples_split in min_samples_splits:\n",
        "    print(round(min_samples_split,3),end=\"   |   \")\n",
        "    clf_dt1 = RandomForestClassifier(max_depth=17,min_samples_split=min_samples_split, n_estimators=100)\n",
        "    clf_dt1.fit(X_train_dt1, y_train_dt1)\n",
        "    score1 = clf_dt1.score(X_train_dt1,y_train_dt1)\n",
        "    train_dt1_mss[i] = score1.mean()\n",
        "    print(round(train_dt1_mss[i],5), end = \"         |  \")\n",
        "    score2 = clf_dt1.score(X_test_dt1,y_test_dt1)\n",
        "    test_dt1_mss[i] = score2.mean()\n",
        "    print(round(test_dt1_mss[i],5))\n",
        "    i+=1"
      ],
      "execution_count": 0,
      "outputs": [
        {
          "output_type": "stream",
          "text": [
            "m_val | Training score    | Testing score\n",
            "0.1   |   0.77426         |  0.76092\n",
            "0.2   |   0.70108         |  0.68804\n",
            "0.3   |   0.60404         |  0.59634\n",
            "0.4   |   0.56251         |  0.54886\n",
            "0.5   |   0.54623         |  0.53068\n",
            "0.6   |   0.52741         |  0.52099\n",
            "0.7   |   0.11493         |  0.11142\n",
            "0.8   |   0.11493         |  0.11142\n",
            "0.9   |   0.11493         |  0.11142\n",
            "1.0   |   0.11493         |  0.11142\n"
          ],
          "name": "stdout"
        }
      ]
    },
    {
      "cell_type": "code",
      "metadata": {
        "id": "z_yo9ey3v2MT",
        "colab_type": "code",
        "colab": {}
      },
      "source": [
        "train_dt1_mss=train_dt1_mss[train_dt1_mss!=0.]\n",
        "test_dt1_mss=test_dt1_mss[test_dt1_mss!=0.]\n"
      ],
      "execution_count": 0,
      "outputs": []
    },
    {
      "cell_type": "code",
      "metadata": {
        "id": "4diN5iYys7Xn",
        "colab_type": "code",
        "outputId": "4bf7462d-bcfe-474b-c305-ccf013a84ab1",
        "colab": {
          "base_uri": "https://localhost:8080/",
          "height": 296
        }
      },
      "source": [
        "fig2, a2 = plt.subplots()\n",
        "plt.plot(min_samples_splits, train_dt1_mss,'ro-', Label='Training Score')\n",
        "plt.plot(min_samples_splits, test_dt1_mss,'bs-', Label = 'Testing Score')\n",
        "plt.xlabel('min_samples_split_value')\n",
        "plt.ylabel('Accuracy Score')\n",
        "plt.title('min_samples_split')\n",
        "legend = a2.legend(loc='upper right')"
      ],
      "execution_count": 0,
      "outputs": [
        {
          "output_type": "display_data",
          "data": {
            "image/png": "[encoded data removed]",
            "text/plain": [
              "<Figure size 432x288 with 1 Axes>"
            ]
          },
          "metadata": {
            "tags": []
          }
        }
      ]
    },
    {
      "cell_type": "markdown",
      "metadata": {
        "id": "UMyp4y_GyI5J",
        "colab_type": "text"
      },
      "source": [
        "**min_samples_leaf**"
      ]
    },
    {
      "cell_type": "code",
      "metadata": {
        "id": "mPR-_P_7voK1",
        "colab_type": "code",
        "colab": {}
      },
      "source": [
        "min_samples_leafs = np.linspace(0.1, 0.5, 5, endpoint=True)"
      ],
      "execution_count": 0,
      "outputs": []
    },
    {
      "cell_type": "code",
      "metadata": {
        "id": "3TDdXIg6yR5-",
        "colab_type": "code",
        "outputId": "b14f3c8e-ce03-4ac1-80e2-dc6e3f3853d9",
        "colab": {
          "base_uri": "https://localhost:8080/",
          "height": 129
        }
      },
      "source": [
        "train_dt1_msl = np.tile(0., 50)\n",
        "test_dt1_msl = np.tile(0., 50)\n",
        "print(\"m_val | Training score    | Testing score\")\n",
        "i=0\n",
        "for min_samples_leaf in min_samples_leafs:\n",
        "    print(round(min_samples_leaf,2),end=\"   |   \")\n",
        "    clf_dt1 = RandomForestClassifier(max_depth=17,min_samples_leaf=min_samples_leaf, n_estimators=100)\n",
        "    clf_dt1.fit(X_train_dt1, y_train_dt1)\n",
        "    score1 = clf_dt1.score(X_train_dt1,y_train_dt1)\n",
        "    train_dt1_msl[i] = score1.mean()\n",
        "    print(round(train_dt1_msl[i],5), end = \"         |  \")\n",
        "    score2 = clf_dt1.score(X_test_dt1,y_test_dt1)\n",
        "    test_dt1_msl[i] = score2.mean()\n",
        "    print(round(test_dt1_msl[i],5))\n",
        "    i+=1"
      ],
      "execution_count": 0,
      "outputs": [
        {
          "output_type": "stream",
          "text": [
            "m_val | Training score    | Testing score\n",
            "0.1   |   0.68594         |  0.67387\n",
            "0.2   |   0.56458         |  0.55161\n",
            "0.3   |   0.52512         |  0.51508\n",
            "0.4   |   0.11493         |  0.11142\n",
            "0.5   |   0.11493         |  0.11142\n"
          ],
          "name": "stdout"
        }
      ]
    },
    {
      "cell_type": "code",
      "metadata": {
        "id": "M-YWq7tszHEw",
        "colab_type": "code",
        "colab": {}
      },
      "source": [
        "train_dt1_msl=train_dt1_msl[train_dt1_msl!=0.]\n",
        "test_dt1_msl=test_dt1_msl[test_dt1_msl!=0.]"
      ],
      "execution_count": 0,
      "outputs": []
    },
    {
      "cell_type": "code",
      "metadata": {
        "id": "o6tkib9qzN53",
        "colab_type": "code",
        "outputId": "4a7f9a77-d2d9-4b41-83df-45c175dd779a",
        "colab": {
          "base_uri": "https://localhost:8080/",
          "height": 296
        }
      },
      "source": [
        "fig3, a3 = plt.subplots()\n",
        "plt.plot(min_samples_leafs, train_dt1_msl,'go-', Label='Training Score')\n",
        "plt.plot(min_samples_leafs, test_dt1_msl,'ys-', Label = 'Testing Score')\n",
        "plt.xlabel('min_samples_leafs_value')\n",
        "plt.ylabel('Accuracy Score')\n",
        "plt.title('min_samples_leafs')\n",
        "legend = a3.legend(loc='upper right')"
      ],
      "execution_count": 0,
      "outputs": [
        {
          "output_type": "display_data",
          "data": {
            "image/png": "[encoded data removed]",
            "text/plain": [
              "<Figure size 432x288 with 1 Axes>"
            ]
          },
          "metadata": {
            "tags": []
          }
        }
      ]
    },
    {
      "cell_type": "markdown",
      "metadata": {
        "id": "mBW-sC2wzr1I",
        "colab_type": "text"
      },
      "source": [
        "## **Random Forest - 1 (Base): (A = 93.95%)**"
      ]
    },
    {
      "cell_type": "code",
      "metadata": {
        "id": "RraGlUlezxoE",
        "colab_type": "code",
        "outputId": "98ca90ea-2bd8-4a74-ceeb-a0ba9213813f",
        "colab": {
          "base_uri": "https://localhost:8080/",
          "height": 36
        }
      },
      "source": [
        "clf_dt2 = RandomForestClassifier(n_estimators=1000)\n",
        "clf_dt2.fit(X_train_dt1, y_train_dt1)\n",
        "y_pred_dt2 = clf_dt2.predict(X_test_dt1)\n",
        "clf_dt2.score(X_test_dt1,y_test_dt1)"
      ],
      "execution_count": 0,
      "outputs": [
        {
          "output_type": "execute_result",
          "data": {
            "text/plain": [
              "0.9395572886798945"
            ]
          },
          "metadata": {
            "tags": []
          },
          "execution_count": 182
        }
      ]
    },
    {
      "cell_type": "markdown",
      "metadata": {
        "id": "lGtWIYNM0z6k",
        "colab_type": "text"
      },
      "source": [
        "## **Random Forest - 2 (Depth=25): (A = 93.92%)**"
      ]
    },
    {
      "cell_type": "code",
      "metadata": {
        "id": "bVIsp-bQ0s4w",
        "colab_type": "code",
        "outputId": "a6dac753-8a15-4b0c-ebad-2580f6a45404",
        "colab": {
          "base_uri": "https://localhost:8080/",
          "height": 36
        }
      },
      "source": [
        "clf_dt3 = RandomForestClassifier(max_depth=25,n_estimators=1000)\n",
        "clf_dt3.fit(X_train_dt1, y_train_dt1)\n",
        "y_pred_dt3 = clf_dt3.predict(X_test_dt1)\n",
        "clf_dt3.score(X_test_dt1,y_test_dt1)"
      ],
      "execution_count": 0,
      "outputs": [
        {
          "output_type": "execute_result",
          "data": {
            "text/plain": [
              "0.9392705585502925"
            ]
          },
          "metadata": {
            "tags": []
          },
          "execution_count": 154
        }
      ]
    },
    {
      "cell_type": "markdown",
      "metadata": {
        "id": "8eIQzRxD7-TF",
        "colab_type": "text"
      },
      "source": [
        "## **Random Forest - 3 (leaf =0.01): (A = 92.16%)**"
      ]
    },
    {
      "cell_type": "code",
      "metadata": {
        "id": "RQXnkFiT1NLi",
        "colab_type": "code",
        "outputId": "62a54f38-6a1d-44bd-9cc0-cf1d9ef29161",
        "colab": {
          "base_uri": "https://localhost:8080/",
          "height": 36
        }
      },
      "source": [
        "clf_dt4 = RandomForestClassifier(n_estimators=100,min_samples_leaf=0.001)\n",
        "clf_dt4.fit(X_train_dt1, y_train_dt1)\n",
        "y_pred_dt4 = clf_dt4.predict(X_test_dt1)\n",
        "clf_dt4.score(X_test_dt1,y_test_dt1)\n"
      ],
      "execution_count": 0,
      "outputs": [
        {
          "output_type": "execute_result",
          "data": {
            "text/plain": [
              "0.9216653285927285"
            ]
          },
          "metadata": {
            "tags": []
          },
          "execution_count": 161
        }
      ]
    },
    {
      "cell_type": "markdown",
      "metadata": {
        "id": "Izv5UOmq9Quo",
        "colab_type": "text"
      },
      "source": [
        "## **Random Forest - 4 (split =0.01): (A = 93.22%)**"
      ]
    },
    {
      "cell_type": "code",
      "metadata": {
        "id": "eDWnhx4Z8rh5",
        "colab_type": "code",
        "outputId": "a2359da0-e954-430f-b0bf-54ffab0733ae",
        "colab": {
          "base_uri": "https://localhost:8080/",
          "height": 36
        }
      },
      "source": [
        "clf_dt5 = RandomForestClassifier(n_estimators=100,min_samples_split=0.001)\n",
        "clf_dt5.fit(X_train_dt1, y_train_dt1)\n",
        "y_pred_dt5 = clf_dt5.predict(X_test_dt1)\n",
        "clf_dt5.score(X_test_dt1,y_test_dt1)\n"
      ],
      "execution_count": 0,
      "outputs": [
        {
          "output_type": "execute_result",
          "data": {
            "text/plain": [
              "0.9322743433880032"
            ]
          },
          "metadata": {
            "tags": []
          },
          "execution_count": 162
        }
      ]
    },
    {
      "cell_type": "markdown",
      "metadata": {
        "id": "9M_i5qYF9zX6",
        "colab_type": "text"
      },
      "source": [
        "## **Random Forest - 5 (split & leaf =0.01): (A = 92.33%)**"
      ]
    },
    {
      "cell_type": "code",
      "metadata": {
        "id": "-RdoyT7g9f5E",
        "colab_type": "code",
        "outputId": "493d3d6b-e752-49c9-a0fd-0429d9d4a910",
        "colab": {
          "base_uri": "https://localhost:8080/",
          "height": 36
        }
      },
      "source": [
        "clf_dt6 = RandomForestClassifier(n_estimators=100,min_samples_leaf=0.001,min_samples_split=0.001)\n",
        "clf_dt6.fit(X_train_dt1, y_train_dt1)\n",
        "y_pred_dt6 = clf_dt6.predict(X_test_dt1)\n",
        "clf_dt6.score(X_test_dt1,y_test_dt1)\n"
      ],
      "execution_count": 0,
      "outputs": [
        {
          "output_type": "execute_result",
          "data": {
            "text/plain": [
              "0.9233283633444203"
            ]
          },
          "metadata": {
            "tags": []
          },
          "execution_count": 164
        }
      ]
    },
    {
      "cell_type": "markdown",
      "metadata": {
        "id": "oz0ctp1KEmvB",
        "colab_type": "text"
      },
      "source": [
        "# **K-NEAREST NEIGHBOR**"
      ]
    },
    {
      "cell_type": "code",
      "metadata": {
        "id": "Gybn6ZxwFiUd",
        "colab_type": "code",
        "colab": {}
      },
      "source": [
        "# train test split\n",
        "X_train_knn, X_test_knn, y_train_knn, y_test_knn = train_test_split(X, y, test_size = 0.8, train_size = 0.2 ,random_state = 10)\n",
        "\n"
      ],
      "execution_count": 0,
      "outputs": []
    },
    {
      "cell_type": "code",
      "metadata": {
        "id": "K-XJN2lkEkek",
        "colab_type": "code",
        "colab": {}
      },
      "source": [
        "neighbors = array.array('i',(i for i in range(1,30)))"
      ],
      "execution_count": 0,
      "outputs": []
    },
    {
      "cell_type": "code",
      "metadata": {
        "id": "ZnyxfXyKE5IX",
        "colab_type": "code",
        "outputId": "7917f1a8-5e5a-4889-b77c-9eb2682121c0",
        "colab": {
          "base_uri": "https://localhost:8080/",
          "height": 577
        }
      },
      "source": [
        "train_knn = np.tile(0., 50)\n",
        "test_knn = np.tile(0., 50)\n",
        "print(\"k_val | Training score    | Testing score\")\n",
        "i=0\n",
        "for neighbor in neighbors:\n",
        "    print(neighbor,end=\"   |   \")\n",
        "    clf_knn =  KNeighborsClassifier(n_neighbors= neighbor,weights='distance')\n",
        "    clf_knn.fit(X_train_knn, y_train_knn)\n",
        "    score1 = clf_knn.score(X_train_knn,y_train_knn)\n",
        "    train_knn[i] = score1.mean()\n",
        "    print(round(train_knn[i],5), end = \"         |  \")\n",
        "    score2 = clf_knn.score(X_test_knn,y_test_knn)\n",
        "    test_knn[i] = score2.mean()\n",
        "    print(round(test_knn[i],5))\n",
        "    i+=1\n"
      ],
      "execution_count": 0,
      "outputs": [
        {
          "output_type": "stream",
          "text": [
            "k_val | Training score    | Testing score\n",
            "1   |   1.0         |  0.93176\n",
            "2   |   1.0         |  0.93176\n",
            "3   |   1.0         |  0.93348\n",
            "4   |   1.0         |  0.93491\n",
            "5   |   1.0         |  0.93055\n",
            "6   |   1.0         |  0.93268\n",
            "7   |   1.0         |  0.92843\n",
            "8   |   1.0         |  0.92952\n",
            "9   |   1.0         |  0.9243\n",
            "10   |   1.0         |  0.92465\n",
            "11   |   1.0         |  0.91949\n",
            "12   |   1.0         |  0.91977\n",
            "13   |   1.0         |  0.91794\n",
            "14   |   1.0         |  0.91754\n",
            "15   |   1.0         |  0.91501\n",
            "16   |   1.0         |  0.91536\n",
            "17   |   1.0         |  0.91278\n",
            "18   |   1.0         |  0.91295\n",
            "19   |   1.0         |  0.9114\n",
            "20   |   1.0         |  0.91048\n",
            "21   |   1.0         |  0.90922\n",
            "22   |   1.0         |  0.90767\n",
            "23   |   1.0         |  0.9059\n",
            "24   |   1.0         |  0.90572\n",
            "25   |   1.0         |  0.90417\n",
            "26   |   1.0         |  0.90395\n",
            "27   |   1.0         |  0.90251\n",
            "28   |   1.0         |  0.90182\n",
            "29   |   1.0         |  0.89959\n"
          ],
          "name": "stdout"
        }
      ]
    },
    {
      "cell_type": "code",
      "metadata": {
        "id": "piLD1g2oOmXN",
        "colab_type": "code",
        "colab": {}
      },
      "source": [
        "train_knn=train_knn[train_knn!=0.]\n",
        "test_knn=test_knn[test_knn!=0.]"
      ],
      "execution_count": 0,
      "outputs": []
    },
    {
      "cell_type": "code",
      "metadata": {
        "id": "Iv-XJddhO21I",
        "colab_type": "code",
        "colab": {}
      },
      "source": [
        "xaxis = array.array('i',(i for i in range(1,30)))"
      ],
      "execution_count": 0,
      "outputs": []
    },
    {
      "cell_type": "code",
      "metadata": {
        "id": "hfP-kWQ2OmbW",
        "colab_type": "code",
        "outputId": "50c88e67-dfea-4c15-9f60-21c4f9e1af2f",
        "colab": {
          "base_uri": "https://localhost:8080/",
          "height": 295
        }
      },
      "source": [
        "fig4, a4 = plt.subplots()\n",
        "plt.plot(xaxis, train_knn,'bo-', Label='Training Score')\n",
        "plt.plot(xaxis, test_knn,'cs-', Label = 'Testing Score')\n",
        "plt.xlabel('k')\n",
        "plt.ylabel('Accuracy Score')\n",
        "plt.title('KNN')\n",
        "legend = a2.legend(loc='lower right')"
      ],
      "execution_count": 0,
      "outputs": [
        {
          "output_type": "display_data",
          "data": {
            "image/png": "[encoded data removed]",
            "text/plain": [
              "<Figure size 432x288 with 1 Axes>"
            ]
          },
          "metadata": {
            "tags": []
          }
        }
      ]
    },
    {
      "cell_type": "markdown",
      "metadata": {
        "id": "23YKd7dJ6n0T",
        "colab_type": "text"
      },
      "source": [
        "## **KNN - 1 - (k=4):   A = 95.09%**"
      ]
    },
    {
      "cell_type": "code",
      "metadata": {
        "id": "QK5I-pBKPKky",
        "colab_type": "code",
        "colab": {}
      },
      "source": [
        "clf_knn1 =  KNeighborsClassifier(n_neighbors= 4,weights='distance')"
      ],
      "execution_count": 0,
      "outputs": []
    },
    {
      "cell_type": "code",
      "metadata": {
        "id": "xRcpX7yM62k1",
        "colab_type": "code",
        "outputId": "1c24ff40-9bfc-42cb-a9f0-685f097e3e3c",
        "colab": {
          "base_uri": "https://localhost:8080/",
          "height": 73
        }
      },
      "source": [
        "clf_knn1.fit(X_train_knn, y_train_knn)"
      ],
      "execution_count": 0,
      "outputs": [
        {
          "output_type": "execute_result",
          "data": {
            "text/plain": [
              "KNeighborsClassifier(algorithm='auto', leaf_size=30, metric='minkowski',\n",
              "                     metric_params=None, n_jobs=None, n_neighbors=4, p=2,\n",
              "                     weights='distance')"
            ]
          },
          "metadata": {
            "tags": []
          },
          "execution_count": 15
        }
      ]
    },
    {
      "cell_type": "code",
      "metadata": {
        "id": "lxYTUxrSBZOo",
        "colab_type": "code",
        "colab": {}
      },
      "source": [
        "y_pred_knn1 = clf_knn1.predict(X_test_knn)"
      ],
      "execution_count": 0,
      "outputs": []
    },
    {
      "cell_type": "code",
      "metadata": {
        "id": "egaktUjM65oU",
        "colab_type": "code",
        "outputId": "125f3e36-1dfe-47b3-f840-e25ce70de2c4",
        "colab": {
          "base_uri": "https://localhost:8080/",
          "height": 36
        }
      },
      "source": [
        "clf_knn1.score(X_test_knn,y_test_knn)"
      ],
      "execution_count": 0,
      "outputs": [
        {
          "output_type": "execute_result",
          "data": {
            "text/plain": [
              "0.9509211583678085"
            ]
          },
          "metadata": {
            "tags": []
          },
          "execution_count": 17
        }
      ]
    },
    {
      "cell_type": "markdown",
      "metadata": {
        "id": "5ikE-3fYFqp9",
        "colab_type": "text"
      },
      "source": [
        "## **KNN - 2 - (k=6)*: A = 94.87%**"
      ]
    },
    {
      "cell_type": "code",
      "metadata": {
        "id": "18GBcALjFp1y",
        "colab_type": "code",
        "colab": {}
      },
      "source": [
        "clf_knn2 =  KNeighborsClassifier(n_neighbors= 6,weights='distance')"
      ],
      "execution_count": 0,
      "outputs": []
    },
    {
      "cell_type": "code",
      "metadata": {
        "id": "CcH1j9TSCNBG",
        "colab_type": "code",
        "outputId": "8283c343-82cd-4a74-ca45-07976e30de44",
        "colab": {
          "base_uri": "https://localhost:8080/",
          "height": 73
        }
      },
      "source": [
        "clf_knn2.fit(X_train_knn, y_train_knn)"
      ],
      "execution_count": 0,
      "outputs": [
        {
          "output_type": "execute_result",
          "data": {
            "text/plain": [
              "KNeighborsClassifier(algorithm='auto', leaf_size=30, metric='minkowski',\n",
              "                     metric_params=None, n_jobs=None, n_neighbors=6, p=2,\n",
              "                     weights='distance')"
            ]
          },
          "metadata": {
            "tags": []
          },
          "execution_count": 19
        }
      ]
    },
    {
      "cell_type": "code",
      "metadata": {
        "id": "KmVC4ROsFx8V",
        "colab_type": "code",
        "colab": {}
      },
      "source": [
        "y_pred_knn2 = clf_knn2.predict(X_test_knn)"
      ],
      "execution_count": 0,
      "outputs": []
    },
    {
      "cell_type": "code",
      "metadata": {
        "id": "6IbC8WHzFx_c",
        "colab_type": "code",
        "outputId": "a7e10ee6-fc0e-4a3d-dd84-e1753b224071",
        "colab": {
          "base_uri": "https://localhost:8080/",
          "height": 36
        }
      },
      "source": [
        "clf_knn2.score(X_test_knn,y_test_knn)"
      ],
      "execution_count": 0,
      "outputs": [
        {
          "output_type": "execute_result",
          "data": {
            "text/plain": [
              "0.9487782374475431"
            ]
          },
          "metadata": {
            "tags": []
          },
          "execution_count": 22
        }
      ]
    },
    {
      "cell_type": "markdown",
      "metadata": {
        "id": "1HTlqbgzJfm0",
        "colab_type": "text"
      },
      "source": [
        "## **KNN - 3 - (k=8) : A = 94.52%**"
      ]
    },
    {
      "cell_type": "code",
      "metadata": {
        "id": "fQMbcJ8iF2rS",
        "colab_type": "code",
        "outputId": "74bace9a-6b25-4de0-992a-a38e28fe0977",
        "colab": {
          "base_uri": "https://localhost:8080/",
          "height": 73
        }
      },
      "source": [
        "clf_knn3 =  KNeighborsClassifier(n_neighbors= 8,weights='distance')\n",
        "clf_knn3.fit(X_train_knn, y_train_knn)"
      ],
      "execution_count": 0,
      "outputs": [
        {
          "output_type": "execute_result",
          "data": {
            "text/plain": [
              "KNeighborsClassifier(algorithm='auto', leaf_size=30, metric='minkowski',\n",
              "                     metric_params=None, n_jobs=None, n_neighbors=8, p=2,\n",
              "                     weights='distance')"
            ]
          },
          "metadata": {
            "tags": []
          },
          "execution_count": 23
        }
      ]
    },
    {
      "cell_type": "code",
      "metadata": {
        "id": "hYtrASFFJqF2",
        "colab_type": "code",
        "outputId": "172b7de4-a7c6-42b5-9391-ba41c1ff758b",
        "colab": {
          "base_uri": "https://localhost:8080/",
          "height": 36
        }
      },
      "source": [
        "clf_knn3.score(X_test_knn,y_test_knn)"
      ],
      "execution_count": 0,
      "outputs": [
        {
          "output_type": "execute_result",
          "data": {
            "text/plain": [
              "0.9452662281615525"
            ]
          },
          "metadata": {
            "tags": []
          },
          "execution_count": 24
        }
      ]
    },
    {
      "cell_type": "code",
      "metadata": {
        "id": "S2vf72gHJxH0",
        "colab_type": "code",
        "colab": {}
      },
      "source": [
        "y_pred_knn3 = clf_knn3.predict(X_test_knn)"
      ],
      "execution_count": 0,
      "outputs": []
    },
    {
      "cell_type": "markdown",
      "metadata": {
        "id": "wMFslGo0iJLq",
        "colab_type": "text"
      },
      "source": [
        "## **KNN -4 (k=4 & no distance parameter) ; A=94.31%**"
      ]
    },
    {
      "cell_type": "code",
      "metadata": {
        "id": "DOvn_ycDiT_Z",
        "colab_type": "code",
        "outputId": "64192211-799d-4409-d304-ead6df85430e",
        "colab": {
          "base_uri": "https://localhost:8080/",
          "height": 73
        }
      },
      "source": [
        "clf_knn4 =  KNeighborsClassifier(n_neighbors= 4)\n",
        "clf_knn4.fit(X_train_knn, y_train_knn)"
      ],
      "execution_count": 0,
      "outputs": [
        {
          "output_type": "execute_result",
          "data": {
            "text/plain": [
              "KNeighborsClassifier(algorithm='auto', leaf_size=30, metric='minkowski',\n",
              "                     metric_params=None, n_jobs=None, n_neighbors=4, p=2,\n",
              "                     weights='uniform')"
            ]
          },
          "metadata": {
            "tags": []
          },
          "execution_count": 27
        }
      ]
    },
    {
      "cell_type": "code",
      "metadata": {
        "id": "rvuqoX2jiUDE",
        "colab_type": "code",
        "outputId": "b8c2b140-794c-4da7-8d44-7fb37bbf71ac",
        "colab": {
          "base_uri": "https://localhost:8080/",
          "height": 36
        }
      },
      "source": [
        "clf_knn4.score(X_test_knn,y_test_knn)"
      ],
      "execution_count": 0,
      "outputs": [
        {
          "output_type": "execute_result",
          "data": {
            "text/plain": [
              "0.9431828328224054"
            ]
          },
          "metadata": {
            "tags": []
          },
          "execution_count": 28
        }
      ]
    },
    {
      "cell_type": "code",
      "metadata": {
        "id": "HXOcu9JnkyTl",
        "colab_type": "code",
        "colab": {}
      },
      "source": [
        "y_pred_knn4 = clf_knn4.predict(X_test_knn)"
      ],
      "execution_count": 0,
      "outputs": []
    },
    {
      "cell_type": "markdown",
      "metadata": {
        "id": "GSHx_zmvjqsk",
        "colab_type": "text"
      },
      "source": [
        "# **NAIVE BAYES**"
      ]
    },
    {
      "cell_type": "markdown",
      "metadata": {
        "id": "tgugI3cImhCt",
        "colab_type": "text"
      },
      "source": [
        "## **Naive Bayes 1 - (alpha =0.001) : A=82.93%**"
      ]
    },
    {
      "cell_type": "code",
      "metadata": {
        "id": "qXsGCrAojvPw",
        "colab_type": "code",
        "colab": {}
      },
      "source": [
        "X_train_nb, X_test_nb, y_train_nb, y_test_nb = train_test_split(X, y, test_size = 0.8, train_size = 0.2 ,random_state = 10)\n"
      ],
      "execution_count": 0,
      "outputs": []
    },
    {
      "cell_type": "code",
      "metadata": {
        "id": "GJ4LtqbUknn4",
        "colab_type": "code",
        "outputId": "7b16177d-4e0c-4949-b00d-7ecec87a542c",
        "colab": {
          "base_uri": "https://localhost:8080/",
          "height": 36
        }
      },
      "source": [
        "clf_nb = MultinomialNB(alpha=0.0001)\n",
        "clf_nb.fit(X_train_nb, y_train_nb)#training the model"
      ],
      "execution_count": 0,
      "outputs": [
        {
          "output_type": "execute_result",
          "data": {
            "text/plain": [
              "MultinomialNB(alpha=0.0001, class_prior=None, fit_prior=True)"
            ]
          },
          "metadata": {
            "tags": []
          },
          "execution_count": 52
        }
      ]
    },
    {
      "cell_type": "code",
      "metadata": {
        "id": "-SsKITyck0CF",
        "colab_type": "code",
        "outputId": "43141d4d-e7b0-4b00-9f26-8a6a8fb23783",
        "colab": {
          "base_uri": "https://localhost:8080/",
          "height": 36
        }
      },
      "source": [
        "clf_nb.score(X_test_nb,y_test_nb)"
      ],
      "execution_count": 0,
      "outputs": [
        {
          "output_type": "execute_result",
          "data": {
            "text/plain": [
              "0.8293103961427424"
            ]
          },
          "metadata": {
            "tags": []
          },
          "execution_count": 53
        }
      ]
    },
    {
      "cell_type": "code",
      "metadata": {
        "id": "39rPO-3Vk8wf",
        "colab_type": "code",
        "colab": {}
      },
      "source": [
        "y_pred_nb = clf_nb.predict(X_test_nb)"
      ],
      "execution_count": 0,
      "outputs": []
    },
    {
      "cell_type": "markdown",
      "metadata": {
        "id": "MmxJfU1C7SbY",
        "colab_type": "text"
      },
      "source": [
        "# **XG BOOST**"
      ]
    },
    {
      "cell_type": "code",
      "metadata": {
        "id": "iip7rDcf7fx5",
        "colab_type": "code",
        "colab": {}
      },
      "source": [
        "X_train_xgb, X_test_xgb, y_train_xgb, y_test_xgb = train_test_split(X, y, test_size = 0.8, train_size = 0.2 ,random_state = 10)"
      ],
      "execution_count": 0,
      "outputs": []
    },
    {
      "cell_type": "markdown",
      "metadata": {
        "id": "m0uDp814A5uq",
        "colab_type": "text"
      },
      "source": [
        "max_depth"
      ]
    },
    {
      "cell_type": "code",
      "metadata": {
        "id": "M4XvW7zPA-ln",
        "colab_type": "code",
        "outputId": "749ab120-4e42-4f3b-c195-31c818b9fccb",
        "colab": {
          "base_uri": "https://localhost:8080/",
          "height": 577
        }
      },
      "source": [
        "train_xgb_md = np.tile(0., 30)\n",
        "test_xgb_md = np.tile(0., 30)\n",
        "print(\"depth | Training score    | Testing score\")\n",
        "for i in range (1,30):\n",
        "    print(i,end=\"   |   \")\n",
        "    clf_xgb_md = xgb.XGBClassifier(n_estimators=100,max_depth=i)\n",
        "    clf_xgb_md.fit(X_train_xgb, y_train_xgb)\n",
        "    score1 = clf_xgb_md.score(X_train_xgb,y_train_xgb)\n",
        "    train_xgb_md[i] = score1.mean()\n",
        "    print(round(train_xgb_md[i],4), end = \"         |  \")\n",
        "    score2 = clf_xgb_md.score(X_test_xgb,y_test_xgb)\n",
        "    test_xgb_md[i] = score2.mean()\n",
        "    print(round(test_xgb_md[i],4))\n"
      ],
      "execution_count": 0,
      "outputs": [
        {
          "output_type": "stream",
          "text": [
            "depth | Training score    | Testing score\n",
            "1   |   0.844         |  0.8288\n",
            "2   |   0.922         |  0.8929\n",
            "3   |   0.9699         |  0.9243\n",
            "4   |   0.9965         |  0.9403\n",
            "5   |   0.9998         |  0.9467\n",
            "6   |   1.0         |  0.9472\n",
            "7   |   1.0         |  0.9467\n",
            "8   |   1.0         |  0.9455\n",
            "9   |   1.0         |  0.9464\n",
            "10   |   1.0         |  0.9467\n",
            "11   |   1.0         |  0.9459\n",
            "12   |   1.0         |  0.9454\n",
            "13   |   1.0         |  0.945\n",
            "14   |   1.0         |  0.9458\n",
            "15   |   1.0         |  0.9453\n",
            "16   |   1.0         |  0.9456\n",
            "17   |   1.0         |  0.9451\n",
            "18   |   1.0         |  0.9454\n",
            "19   |   1.0         |  0.9449\n",
            "20   |   1.0         |  0.9451\n",
            "21   |   1.0         |  0.9449\n",
            "22   |   1.0         |  0.9454\n",
            "23   |   1.0         |  0.9454\n",
            "24   |   1.0         |  0.9447\n",
            "25   |   1.0         |  0.9454\n",
            "26   |   1.0         |  0.9449\n",
            "27   |   1.0         |  0.9458\n",
            "28   |   1.0         |  0.9458\n",
            "29   |   1.0         |  0.9458\n"
          ],
          "name": "stdout"
        }
      ]
    },
    {
      "cell_type": "markdown",
      "metadata": {
        "id": "WsctuPAVo5RU",
        "colab_type": "text"
      },
      "source": [
        "Depth = 6,5,9"
      ]
    },
    {
      "cell_type": "code",
      "metadata": {
        "id": "VHyYDqqhA-or",
        "colab_type": "code",
        "colab": {}
      },
      "source": [
        "train_xgb_md=train_xgb_md[train_xgb_md!=0.]\n",
        "test_xgb_md=test_xgb_md[test_xgb_md!=0.]\n",
        "xaxis = array.array('i',(i for i in range(1,30)))"
      ],
      "execution_count": 0,
      "outputs": []
    },
    {
      "cell_type": "code",
      "metadata": {
        "id": "osizSC377pUz",
        "colab_type": "code",
        "outputId": "6395384c-69b3-4437-bc7b-4794859fda5e",
        "colab": {
          "base_uri": "https://localhost:8080/",
          "height": 295
        }
      },
      "source": [
        "fig4, a4 = plt.subplots()\n",
        "plt.plot(xaxis, train_xgb_md,'bo-', Label='Training Score')\n",
        "plt.plot(xaxis, test_xgb_md,'cs-', Label = 'Testing Score')\n",
        "plt.xlabel('Depth of tree')\n",
        "plt.ylabel('Accuracy Score')\n",
        "plt.title('XGBOOST - max_depth')\n",
        "legend = a4.legend(loc='lower right')"
      ],
      "execution_count": 0,
      "outputs": [
        {
          "output_type": "display_data",
          "data": {
            "image/png": "[encoded data removed]",
            "text/plain": [
              "<Figure size 432x288 with 1 Axes>"
            ]
          },
          "metadata": {
            "tags": []
          }
        }
      ]
    },
    {
      "cell_type": "markdown",
      "metadata": {
        "id": "YRqWDZCnChbC",
        "colab_type": "text"
      },
      "source": [
        "learning_rate"
      ]
    },
    {
      "cell_type": "code",
      "metadata": {
        "id": "vilRecN_CjEI",
        "colab_type": "code",
        "colab": {}
      },
      "source": [
        "learning_rate = [0.0001, 0.001, 0.01, 0.1, 0.2, 0.3,0.4,0.5,0.6,0.7,0.8,0.9,1]"
      ],
      "execution_count": 0,
      "outputs": []
    },
    {
      "cell_type": "code",
      "metadata": {
        "id": "nR1uUDs1CjPl",
        "colab_type": "code",
        "outputId": "9f1db4cf-6244-490e-8374-7736057fe95d",
        "colab": {
          "base_uri": "https://localhost:8080/",
          "height": 279
        }
      },
      "source": [
        "train_xgb_lr = np.tile(0., 30)\n",
        "test_xgb_lr = np.tile(0., 30)\n",
        "print(\"l_rate | Training score    | Testing score\")\n",
        "i=0\n",
        "for lr in learning_rate:\n",
        "    print(lr,end=\"   |   \")\n",
        "    clf_xgb_lr = xgb.XGBClassifier(n_estimators=100,learning_rate=lr)\n",
        "    clf_xgb_lr.fit(X_train_xgb, y_train_xgb)\n",
        "    score1 = clf_xgb_lr.score(X_train_xgb,y_train_xgb)\n",
        "    train_xgb_lr[i] = score1.mean()\n",
        "    print(round(train_xgb_lr[i],4), end = \"         |  \")\n",
        "    score2 = clf_xgb_lr.score(X_test_xgb,y_test_xgb)\n",
        "    test_xgb_lr[i] = score2.mean()\n",
        "    print(round(test_xgb_lr[i],4))\n",
        "    i+=1\n"
      ],
      "execution_count": 0,
      "outputs": [
        {
          "output_type": "stream",
          "text": [
            "l_rate | Training score    | Testing score\n",
            "0.0001   |   0.7338         |  0.711\n",
            "0.001   |   0.7533         |  0.733\n",
            "0.01   |   0.8537         |  0.8272\n",
            "0.1   |   0.9699         |  0.9243\n",
            "0.2   |   0.9975         |  0.9414\n",
            "0.3   |   1.0         |  0.9469\n",
            "0.4   |   1.0         |  0.9501\n",
            "0.5   |   1.0         |  0.9512\n",
            "0.6   |   1.0         |  0.9498\n",
            "0.7   |   1.0         |  0.949\n",
            "0.8   |   1.0         |  0.9483\n",
            "0.9   |   1.0         |  0.9464\n",
            "1   |   1.0         |  0.945\n"
          ],
          "name": "stdout"
        }
      ]
    },
    {
      "cell_type": "code",
      "metadata": {
        "id": "CaJnqFx8CjW4",
        "colab_type": "code",
        "colab": {}
      },
      "source": [
        "train_xgb_lr=train_xgb_lr[train_xgb_lr!=0.]\n",
        "test_xgb_lr=test_xgb_lr[test_xgb_lr!=0.]\n",
        "xaxis = array.array('i',(i for i in range(1,30)))"
      ],
      "execution_count": 0,
      "outputs": []
    },
    {
      "cell_type": "code",
      "metadata": {
        "id": "BhlIyf_iCjUW",
        "colab_type": "code",
        "outputId": "d02b6c8d-bfe7-407b-e634-bef6d3fa043e",
        "colab": {
          "base_uri": "https://localhost:8080/",
          "height": 295
        }
      },
      "source": [
        "fig5, a5 = plt.subplots()\n",
        "plt.plot(learning_rate, train_xgb_lr,'bo-', Label='Training Score')\n",
        "plt.plot(learning_rate, test_xgb_lr,'cs-', Label = 'Testing Score')\n",
        "plt.xlabel('Depth of tree')\n",
        "plt.ylabel('Accuracy Score')\n",
        "plt.title('XGBOOST - learning_rate')\n",
        "legend = a5.legend(loc='lower right')"
      ],
      "execution_count": 0,
      "outputs": [
        {
          "output_type": "display_data",
          "data": {
            "image/png": "[encoded data removed]",
            "text/plain": [
              "<Figure size 432x288 with 1 Axes>"
            ]
          },
          "metadata": {
            "tags": []
          }
        }
      ]
    },
    {
      "cell_type": "markdown",
      "metadata": {
        "id": "zvff5hiTvjty",
        "colab_type": "text"
      },
      "source": [
        "## **XG Boost 1 - (d=6) ; A = 94.72 %**"
      ]
    },
    {
      "cell_type": "code",
      "metadata": {
        "id": "WgUk7Kvnv2me",
        "colab_type": "code",
        "colab": {}
      },
      "source": [
        "clf_xgb1= xgb.XGBClassifier(n_estimators=100,max_depth=6)"
      ],
      "execution_count": 0,
      "outputs": []
    },
    {
      "cell_type": "code",
      "metadata": {
        "id": "TgZOUOqpv2qf",
        "colab_type": "code",
        "outputId": "49545442-c905-4197-da25-dd6eb269902e",
        "colab": {
          "base_uri": "https://localhost:8080/",
          "height": 148
        }
      },
      "source": [
        "clf_xgb1.fit(X_train_xgb, y_train_xgb)"
      ],
      "execution_count": 0,
      "outputs": [
        {
          "output_type": "execute_result",
          "data": {
            "text/plain": [
              "XGBClassifier(base_score=0.5, booster='gbtree', colsample_bylevel=1,\n",
              "              colsample_bynode=1, colsample_bytree=1, gamma=0,\n",
              "              learning_rate=0.1, max_delta_step=0, max_depth=6,\n",
              "              min_child_weight=1, missing=None, n_estimators=100, n_jobs=1,\n",
              "              nthread=None, objective='multi:softprob', random_state=0,\n",
              "              reg_alpha=0, reg_lambda=1, scale_pos_weight=1, seed=None,\n",
              "              silent=None, subsample=1, verbosity=1)"
            ]
          },
          "metadata": {
            "tags": []
          },
          "execution_count": 20
        }
      ]
    },
    {
      "cell_type": "code",
      "metadata": {
        "id": "Iyv97ilIwKkK",
        "colab_type": "code",
        "outputId": "8bc3e6e5-b8e3-48a4-a1ac-7887900fe522",
        "colab": {
          "base_uri": "https://localhost:8080/",
          "height": 36
        }
      },
      "source": [
        "clf_xgb1.score(X_test_xgb,y_test_xgb)"
      ],
      "execution_count": 0,
      "outputs": [
        {
          "output_type": "execute_result",
          "data": {
            "text/plain": [
              "0.9472008095479032"
            ]
          },
          "metadata": {
            "tags": []
          },
          "execution_count": 21
        }
      ]
    },
    {
      "cell_type": "code",
      "metadata": {
        "id": "vWb4rJavwKoH",
        "colab_type": "code",
        "colab": {}
      },
      "source": [
        "pred_xgb1 = clf_xgb1.predict(X_test_xgb)"
      ],
      "execution_count": 0,
      "outputs": []
    },
    {
      "cell_type": "markdown",
      "metadata": {
        "id": "1sQQuXAavp5E",
        "colab_type": "text"
      },
      "source": [
        "## **XG Boost 2 - (d=5) ; A = 94.66 %**"
      ]
    },
    {
      "cell_type": "code",
      "metadata": {
        "id": "jeno2kZrwBwi",
        "colab_type": "code",
        "colab": {}
      },
      "source": [
        "clf_xgb2= xgb.XGBClassifier(n_estimators=100,max_depth=5)"
      ],
      "execution_count": 0,
      "outputs": []
    },
    {
      "cell_type": "code",
      "metadata": {
        "id": "wfR-Vzg2wBuz",
        "colab_type": "code",
        "outputId": "8f994157-9bc5-4529-a95f-14c1b2a4397f",
        "colab": {
          "base_uri": "https://localhost:8080/",
          "height": 148
        }
      },
      "source": [
        "clf_xgb2.fit(X_train_xgb, y_train_xgb)"
      ],
      "execution_count": 0,
      "outputs": [
        {
          "output_type": "execute_result",
          "data": {
            "text/plain": [
              "XGBClassifier(base_score=0.5, booster='gbtree', colsample_bylevel=1,\n",
              "              colsample_bynode=1, colsample_bytree=1, gamma=0,\n",
              "              learning_rate=0.1, max_delta_step=0, max_depth=5,\n",
              "              min_child_weight=1, missing=None, n_estimators=100, n_jobs=1,\n",
              "              nthread=None, objective='multi:softprob', random_state=0,\n",
              "              reg_alpha=0, reg_lambda=1, scale_pos_weight=1, seed=None,\n",
              "              silent=None, subsample=1, verbosity=1)"
            ]
          },
          "metadata": {
            "tags": []
          },
          "execution_count": 25
        }
      ]
    },
    {
      "cell_type": "code",
      "metadata": {
        "id": "JY7C8K6IwBpE",
        "colab_type": "code",
        "outputId": "46674cf0-f217-4bff-d774-0f7cefef5ed7",
        "colab": {
          "base_uri": "https://localhost:8080/",
          "height": 36
        }
      },
      "source": [
        "clf_xgb2.score(X_test_xgb,y_test_xgb)"
      ],
      "execution_count": 0,
      "outputs": [
        {
          "output_type": "execute_result",
          "data": {
            "text/plain": [
              "0.9466650793178368"
            ]
          },
          "metadata": {
            "tags": []
          },
          "execution_count": 26
        }
      ]
    },
    {
      "cell_type": "code",
      "metadata": {
        "id": "OouQr4sQwZeM",
        "colab_type": "code",
        "colab": {}
      },
      "source": [
        "pred_xgb2 = clf_xgb2.predict(X_test_xgb)"
      ],
      "execution_count": 0,
      "outputs": []
    },
    {
      "cell_type": "markdown",
      "metadata": {
        "id": "LvWCSdy9vp-j",
        "colab_type": "text"
      },
      "source": [
        "## **XG Boost 3 - (d=9) ; A = 94.63 %**"
      ]
    },
    {
      "cell_type": "code",
      "metadata": {
        "id": "vwgJNtaiCjMp",
        "colab_type": "code",
        "colab": {}
      },
      "source": [
        "clf_xgb3= xgb.XGBClassifier(n_estimators=100,max_depth=9)"
      ],
      "execution_count": 0,
      "outputs": []
    },
    {
      "cell_type": "code",
      "metadata": {
        "id": "PqPtPpsuCjJd",
        "colab_type": "code",
        "outputId": "ea69631b-0b9e-45c7-a729-7b49266fed0f",
        "colab": {
          "base_uri": "https://localhost:8080/",
          "height": 148
        }
      },
      "source": [
        "clf_xgb3.fit(X_train_xgb, y_train_xgb)"
      ],
      "execution_count": 0,
      "outputs": [
        {
          "output_type": "execute_result",
          "data": {
            "text/plain": [
              "XGBClassifier(base_score=0.5, booster='gbtree', colsample_bylevel=1,\n",
              "              colsample_bynode=1, colsample_bytree=1, gamma=0,\n",
              "              learning_rate=0.1, max_delta_step=0, max_depth=9,\n",
              "              min_child_weight=1, missing=None, n_estimators=100, n_jobs=1,\n",
              "              nthread=None, objective='multi:softprob', random_state=0,\n",
              "              reg_alpha=0, reg_lambda=1, scale_pos_weight=1, seed=None,\n",
              "              silent=None, subsample=1, verbosity=1)"
            ]
          },
          "metadata": {
            "tags": []
          },
          "execution_count": 29
        }
      ]
    },
    {
      "cell_type": "code",
      "metadata": {
        "id": "g93zHSj6wJEZ",
        "colab_type": "code",
        "outputId": "df62ca63-11e3-4df4-c130-430af2b7eec8",
        "colab": {
          "base_uri": "https://localhost:8080/",
          "height": 36
        }
      },
      "source": [
        "clf_xgb3.score(X_test_xgb,y_test_xgb)"
      ],
      "execution_count": 0,
      "outputs": [
        {
          "output_type": "execute_result",
          "data": {
            "text/plain": [
              "0.9463674514122444"
            ]
          },
          "metadata": {
            "tags": []
          },
          "execution_count": 30
        }
      ]
    },
    {
      "cell_type": "code",
      "metadata": {
        "id": "mRkmg_j6wJIg",
        "colab_type": "code",
        "colab": {}
      },
      "source": [
        "pred_xgb3 = clf_xgb3.predict(X_test_xgb)"
      ],
      "execution_count": 0,
      "outputs": []
    },
    {
      "cell_type": "markdown",
      "metadata": {
        "id": "Jv_Vtxk0wgR6",
        "colab_type": "text"
      },
      "source": [
        "## **XG Boost 4 - (lr= 0.6) ; A = 94.97 %**"
      ]
    },
    {
      "cell_type": "code",
      "metadata": {
        "id": "7sAN4kQby-tW",
        "colab_type": "code",
        "outputId": "33fc931c-2fab-4a0d-e2de-3f4aedcffc1f",
        "colab": {
          "base_uri": "https://localhost:8080/",
          "height": 36
        }
      },
      "source": [
        "clf_xgb4= xgb.XGBClassifier(n_estimators=100,learning_rate=0.6)\n",
        "clf_xgb4.fit(X_train_xgb, y_train_xgb)\n",
        "pred_xgb4 = clf_xgb4.predict(X_test_xgb)\n",
        "clf_xgb4.score(X_test_xgb,y_test_xgb)"
      ],
      "execution_count": 0,
      "outputs": [
        {
          "output_type": "execute_result",
          "data": {
            "text/plain": [
              "0.949760409535998"
            ]
          },
          "metadata": {
            "tags": []
          },
          "execution_count": 35
        }
      ]
    },
    {
      "cell_type": "markdown",
      "metadata": {
        "id": "Us8Ky6nywglb",
        "colab_type": "text"
      },
      "source": [
        "## **XG Boost 5 - (lr= 0.7 ) ; A = 94.90%**"
      ]
    },
    {
      "cell_type": "code",
      "metadata": {
        "id": "TeUXEsQszFbF",
        "colab_type": "code",
        "outputId": "e5b6b2c3-f642-4a66-87d7-57a4e2832567",
        "colab": {
          "base_uri": "https://localhost:8080/",
          "height": 36
        }
      },
      "source": [
        "clf_xgb5= xgb.XGBClassifier(n_estimators=100,learning_rate=0.7)\n",
        "clf_xgb5.fit(X_train_xgb, y_train_xgb)\n",
        "pred_xgb5 = clf_xgb5.predict(X_test_xgb)\n",
        "clf_xgb5.score(X_test_xgb,y_test_xgb)"
      ],
      "execution_count": 0,
      "outputs": [
        {
          "output_type": "execute_result",
          "data": {
            "text/plain": [
              "0.9490461025625763"
            ]
          },
          "metadata": {
            "tags": []
          },
          "execution_count": 36
        }
      ]
    },
    {
      "cell_type": "markdown",
      "metadata": {
        "id": "8yQoiGB1zHOB",
        "colab_type": "text"
      },
      "source": [
        "## **XG Boost 6 - (dep=6,lr=0.6)  ; A = 94.81 %**"
      ]
    },
    {
      "cell_type": "code",
      "metadata": {
        "id": "hn1yXtwLzKFB",
        "colab_type": "code",
        "outputId": "f3a7ce73-eb0b-4cc0-d58d-0c894467a4af",
        "colab": {
          "base_uri": "https://localhost:8080/",
          "height": 36
        }
      },
      "source": [
        "clf_xgb6= xgb.XGBClassifier(n_estimators=100,learning_rate=0.6,max_depth=6)\n",
        "clf_xgb6.fit(X_train_xgb, y_train_xgb)\n",
        "pred_xgb6 = clf_xgb6.predict(X_test_xgb)\n",
        "clf_xgb6.score(X_test_xgb,y_test_xgb)\n",
        "\n"
      ],
      "execution_count": 0,
      "outputs": [
        {
          "output_type": "execute_result",
          "data": {
            "text/plain": [
              "0.948153218845799"
            ]
          },
          "metadata": {
            "tags": []
          },
          "execution_count": 37
        }
      ]
    },
    {
      "cell_type": "markdown",
      "metadata": {
        "id": "-yeRfXwgNWFX",
        "colab_type": "text"
      },
      "source": [
        "# **LIGHT GBM**"
      ]
    },
    {
      "cell_type": "code",
      "metadata": {
        "id": "7hkFTVwsNfi8",
        "colab_type": "code",
        "colab": {}
      },
      "source": [
        "from lightgbm import LGBMClassifier"
      ],
      "execution_count": 0,
      "outputs": []
    },
    {
      "cell_type": "code",
      "metadata": {
        "id": "YEiBqNk_Nfn9",
        "colab_type": "code",
        "colab": {}
      },
      "source": [
        "X_train_lgbm, X_test_lgbm, y_train_lgbm, y_test_lgbm = train_test_split(X, y, test_size = 0.8, train_size = 0.2 ,random_state = 10)"
      ],
      "execution_count": 0,
      "outputs": []
    },
    {
      "cell_type": "markdown",
      "metadata": {
        "id": "i2R1ddBQz8YT",
        "colab_type": "text"
      },
      "source": [
        "learning_rate"
      ]
    },
    {
      "cell_type": "code",
      "metadata": {
        "id": "OeMbiD0c0ecd",
        "colab_type": "code",
        "colab": {}
      },
      "source": [
        "learning_rate = [0.0001, 0.001, 0.01, 0.1, 0.2, 0.3,0.4,0.5,0.6,0.7,0.8,0.9,1]"
      ],
      "execution_count": 0,
      "outputs": []
    },
    {
      "cell_type": "code",
      "metadata": {
        "id": "SsqrC3dY0WD4",
        "colab_type": "code",
        "outputId": "aec2bb90-67c1-4396-c97e-33070196c637",
        "colab": {
          "base_uri": "https://localhost:8080/",
          "height": 279
        }
      },
      "source": [
        "train_lgbm_lr = np.tile(0., 30)\n",
        "test_lgbm_lr = np.tile(0., 30)\n",
        "print(\"l_rate | Training score    | Testing score\")\n",
        "i=0\n",
        "for lr in learning_rate:\n",
        "    print(lr,end=\"   |   \")\n",
        "    clf_lgbm_lr = LGBMClassifier(n_estimators=1000,learning_rate=lr)\n",
        "    clf_lgbm_lr.fit(X_train_lgbm, y_train_lgbm)\n",
        "    score1 = clf_lgbm_lr.score(X_train_lgbm,y_train_lgbm)\n",
        "    train_lgbm_lr[i] = score1.mean()\n",
        "    print(round(train_lgbm_lr[i],4), end = \"         |  \")\n",
        "    score2 = clf_lgbm_lr.score(X_test_lgbm,y_test_lgbm)\n",
        "    test_lgbm_lr[i] = score2.mean()\n",
        "    print(round(test_lgbm_lr[i],4))\n",
        "    i+=1"
      ],
      "execution_count": 0,
      "outputs": [
        {
          "output_type": "stream",
          "text": [
            "l_rate | Training score    | Testing score\n",
            "0.0001   |   0.8711         |  0.8071\n",
            "0.001   |   0.9602         |  0.9042\n",
            "0.01   |   1.0         |  0.9521\n",
            "0.1   |   1.0         |  0.9609\n",
            "0.2   |   1.0         |  0.9611\n",
            "0.3   |   1.0         |  0.9592\n",
            "0.4   |   1.0         |  0.9594\n",
            "0.5   |   1.0         |  0.9572\n",
            "0.6   |   1.0         |  0.9579\n",
            "0.7   |   1.0         |  0.9557\n",
            "0.8   |   1.0         |  0.9537\n",
            "0.9   |   1.0         |  0.9524\n",
            "1   |   0.2372         |  0.2357\n"
          ],
          "name": "stdout"
        }
      ]
    },
    {
      "cell_type": "code",
      "metadata": {
        "id": "2rP-xn7Y0yAT",
        "colab_type": "code",
        "colab": {}
      },
      "source": [
        "train_lgbm_lr=train_lgbm_lr[train_lgbm_lr!=0.]\n",
        "test_lgbm_lr=test_lgbm_lr[test_lgbm_lr!=0.]"
      ],
      "execution_count": 0,
      "outputs": []
    },
    {
      "cell_type": "code",
      "metadata": {
        "id": "if-rlB0B002O",
        "colab_type": "code",
        "outputId": "d8dd4672-c696-4d85-8de5-357e377cc714",
        "colab": {
          "base_uri": "https://localhost:8080/",
          "height": 295
        }
      },
      "source": [
        "fig6, a6 = plt.subplots()\n",
        "plt.plot(learning_rate, train_lgbm_lr,'bo-', Label='Training Score')\n",
        "plt.plot(learning_rate, test_lgbm_lr,'cs-', Label = 'Testing Score')\n",
        "plt.xlabel('Depth of tree')\n",
        "plt.ylabel('Accuracy Score')\n",
        "plt.title('LGBM - learning_rate')\n",
        "legend = a6.legend(loc='lower right')"
      ],
      "execution_count": 0,
      "outputs": [
        {
          "output_type": "display_data",
          "data": {
            "image/png": "[encoded data removed]",
            "text/plain": [
              "<Figure size 432x288 with 1 Axes>"
            ]
          },
          "metadata": {
            "tags": []
          }
        }
      ]
    },
    {
      "cell_type": "code",
      "metadata": {
        "id": "9pGBUC9nEhQH",
        "colab_type": "code",
        "colab": {}
      },
      "source": [
        ""
      ],
      "execution_count": 0,
      "outputs": []
    },
    {
      "cell_type": "markdown",
      "metadata": {
        "id": "tVPosEVsEyc7",
        "colab_type": "text"
      },
      "source": [
        "## **LGBM BASIC ; A = 96.08 %**"
      ]
    },
    {
      "cell_type": "code",
      "metadata": {
        "id": "8i6Bys5XEzZC",
        "colab_type": "code",
        "outputId": "d5a7df29-952b-4e70-910b-3ab0aa5b7853",
        "colab": {
          "base_uri": "https://localhost:8080/",
          "height": 36
        }
      },
      "source": [
        "clf_lgbm= LGBMClassifier(n_estimators=1000)\n",
        "clf_lgbm.fit(X_train_lgbm, y_train_lgbm)\n",
        "#pred_lgbm = clf_lgbm.predict(X_test_lgbm)\n",
        "clf_lgbm.score(X_test_lgbm,y_test_lgbm)"
      ],
      "execution_count": 0,
      "outputs": [
        {
          "output_type": "execute_result",
          "data": {
            "text/plain": [
              "0.9608619304145957"
            ]
          },
          "metadata": {
            "tags": []
          },
          "execution_count": 58
        }
      ]
    },
    {
      "cell_type": "markdown",
      "metadata": {
        "id": "uiEnf8CtEzrp",
        "colab_type": "text"
      },
      "source": [
        "## **LGBM 1: (lr= 0.1) ; A = 96.08**"
      ]
    },
    {
      "cell_type": "code",
      "metadata": {
        "id": "5n7JjxSREz8x",
        "colab_type": "code",
        "outputId": "f7174f0b-aeaf-45bf-8e7a-580b58613471",
        "colab": {
          "base_uri": "https://localhost:8080/",
          "height": 36
        }
      },
      "source": [
        "clf_lgbm1= LGBMClassifier(n_estimators=100,learning_rate=0.1)\n",
        "clf_lgbm1.fit(X_train_lgbm, y_train_lgbm)\n",
        "#pred_lgbm1 = clf_lgbm.predict(X_test_lgbm)\n",
        "clf_lgbm1.score(X_test_lgbm,y_test_lgbm)\n",
        "\n"
      ],
      "execution_count": 0,
      "outputs": [
        {
          "output_type": "execute_result",
          "data": {
            "text/plain": [
              "0.9517842792940266"
            ]
          },
          "metadata": {
            "tags": []
          },
          "execution_count": 59
        }
      ]
    },
    {
      "cell_type": "markdown",
      "metadata": {
        "id": "Dmm5c1gBE0NC",
        "colab_type": "text"
      },
      "source": [
        "## **LGBM 2: (lr= 0.2 ) ; A = 96.11%**"
      ]
    },
    {
      "cell_type": "code",
      "metadata": {
        "id": "6Ik77QSsE0bf",
        "colab_type": "code",
        "outputId": "513d241c-447a-45cb-aa40-6d8c09f4a380",
        "colab": {
          "base_uri": "https://localhost:8080/",
          "height": 36
        }
      },
      "source": [
        "clf_lgbm2= LGBMClassifier(n_estimators=1000,learning_rate=0.2)\n",
        "clf_lgbm2.fit(X_train_lgbm, y_train_lgbm)\n",
        "#pred_lgbm2 = clf_lgbm.predict(X_test_lgbm)\n",
        "clf_lgbm2.score(X_test_lgbm,y_test_lgbm)\n",
        "\n",
        "\n"
      ],
      "execution_count": 0,
      "outputs": [
        {
          "output_type": "execute_result",
          "data": {
            "text/plain": [
              "0.9611000327390696"
            ]
          },
          "metadata": {
            "tags": []
          },
          "execution_count": 57
        }
      ]
    },
    {
      "cell_type": "markdown",
      "metadata": {
        "id": "UG6kNelcVAtO",
        "colab_type": "text"
      },
      "source": [
        "## **LGBM 3: (lr= 0.3 ) ; A = 95.93%**"
      ]
    },
    {
      "cell_type": "code",
      "metadata": {
        "id": "s3MthUbOVA6-",
        "colab_type": "code",
        "outputId": "7568b7b6-3242-44e5-b3ec-3fb85f55934a",
        "colab": {
          "base_uri": "https://localhost:8080/",
          "height": 36
        }
      },
      "source": [
        "clf_lgbm3= LGBMClassifier(n_estimators=100,learning_rate=0.3)\n",
        "clf_lgbm3.fit(X_train_lgbm, y_train_lgbm)\n",
        "pred_lgbm3 = clf_lgbm.predict(X_test_lgbm)\n",
        "clf_lgbm3.score(X_test_lgbm,y_test_lgbm)\n",
        "\n",
        "\n"
      ],
      "execution_count": 0,
      "outputs": [
        {
          "output_type": "execute_result",
          "data": {
            "text/plain": [
              "0.9593737908866335"
            ]
          },
          "metadata": {
            "tags": []
          },
          "execution_count": 53
        }
      ]
    },
    {
      "cell_type": "markdown",
      "metadata": {
        "id": "u3Is7Pl2VBCX",
        "colab_type": "text"
      },
      "source": [
        "## **LGBM 4: (lr= 0.4 ) ; A = 95.94%**"
      ]
    },
    {
      "cell_type": "code",
      "metadata": {
        "id": "dtZPd3zBVBM9",
        "colab_type": "code",
        "outputId": "e312fe84-95c3-46c2-e164-a001d64791ac",
        "colab": {
          "base_uri": "https://localhost:8080/",
          "height": 36
        }
      },
      "source": [
        "clf_lgbm4= LGBMClassifier(n_estimators=100,learning_rate=0.4)\n",
        "clf_lgbm4.fit(X_train_lgbm, y_train_lgbm)\n",
        "#pred_lgbm4 = clf_lgbm.predict(X_test_lgbm)\n",
        "clf_lgbm4.score(X_test_lgbm,y_test_lgbm)\n",
        "\n",
        "\n"
      ],
      "execution_count": 0,
      "outputs": [
        {
          "output_type": "execute_result",
          "data": {
            "text/plain": [
              "0.9594035536771928"
            ]
          },
          "metadata": {
            "tags": []
          },
          "execution_count": 52
        }
      ]
    },
    {
      "cell_type": "markdown",
      "metadata": {
        "id": "89MFJm0mVBWl",
        "colab_type": "text"
      },
      "source": [
        "## **LGBM 5: (lr= 0.6 ) ; A = 95.84%**"
      ]
    },
    {
      "cell_type": "code",
      "metadata": {
        "id": "x62tUowKVBgF",
        "colab_type": "code",
        "outputId": "fb255dda-c49d-4ff0-c8fe-45351a98d368",
        "colab": {
          "base_uri": "https://localhost:8080/",
          "height": 36
        }
      },
      "source": [
        "clf_lgbm5= LGBMClassifier(n_estimators=100,learning_rate=0.6)\n",
        "clf_lgbm5.fit(X_train_lgbm, y_train_lgbm)\n",
        "#pred_lgbm5 = clf_lgbm.predict(X_test_lgbm)\n",
        "clf_lgbm5.score(X_test_lgbm,y_test_lgbm)\n",
        "\n",
        "\n"
      ],
      "execution_count": 0,
      "outputs": [
        {
          "output_type": "execute_result",
          "data": {
            "text/plain": [
              "0.9584809071698562"
            ]
          },
          "metadata": {
            "tags": []
          },
          "execution_count": 51
        }
      ]
    }
  ]
}